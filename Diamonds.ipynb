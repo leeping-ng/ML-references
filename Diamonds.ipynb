{
 "cells": [
  {
   "cell_type": "markdown",
   "metadata": {},
   "source": [
    "### Step 0: Import Libraries and Data"
   ]
  },
  {
   "cell_type": "code",
   "execution_count": 142,
   "metadata": {
    "collapsed": true
   },
   "outputs": [],
   "source": [
    "import pandas as pd\n",
    "import numpy as np\n",
    "import matplotlib.pyplot as plt\n",
    "%matplotlib inline\n",
    "import seaborn as sns\n",
    "\n",
    "from sklearn.linear_model import LinearRegression, Lasso, Ridge\n",
    "from sklearn.model_selection import train_test_split\n",
    "from sklearn.preprocessing import StandardScaler\n",
    "from sklearn.pipeline import Pipeline\n",
    "from sklearn.metrics import r2_score, mean_squared_error\n",
    "from sklearn.model_selection import GridSearchCV"
   ]
  },
  {
   "cell_type": "code",
   "execution_count": 143,
   "metadata": {
    "collapsed": true
   },
   "outputs": [],
   "source": [
    "df = pd.read_csv(\"diamonds.csv\", index_col=0)"
   ]
  },
  {
   "cell_type": "markdown",
   "metadata": {},
   "source": [
    "### Step 1: Exploratory Data Analysis"
   ]
  },
  {
   "cell_type": "code",
   "execution_count": 144,
   "metadata": {
    "scrolled": true
   },
   "outputs": [
    {
     "name": "stdout",
     "output_type": "stream",
     "text": [
      "<class 'pandas.core.frame.DataFrame'>\n",
      "Int64Index: 53940 entries, 1 to 53940\n",
      "Data columns (total 10 columns):\n",
      "carat      53940 non-null float64\n",
      "cut        53940 non-null object\n",
      "color      53940 non-null object\n",
      "clarity    53940 non-null object\n",
      "depth      53940 non-null float64\n",
      "table      53940 non-null float64\n",
      "price      53940 non-null int64\n",
      "x          53940 non-null float64\n",
      "y          53940 non-null float64\n",
      "z          53940 non-null float64\n",
      "dtypes: float64(6), int64(1), object(3)\n",
      "memory usage: 4.5+ MB\n"
     ]
    }
   ],
   "source": [
    "df.info()"
   ]
  },
  {
   "cell_type": "code",
   "execution_count": 145,
   "metadata": {},
   "outputs": [
    {
     "data": {
      "text/html": [
       "<div>\n",
       "<style>\n",
       "    .dataframe thead tr:only-child th {\n",
       "        text-align: right;\n",
       "    }\n",
       "\n",
       "    .dataframe thead th {\n",
       "        text-align: left;\n",
       "    }\n",
       "\n",
       "    .dataframe tbody tr th {\n",
       "        vertical-align: top;\n",
       "    }\n",
       "</style>\n",
       "<table border=\"1\" class=\"dataframe\">\n",
       "  <thead>\n",
       "    <tr style=\"text-align: right;\">\n",
       "      <th></th>\n",
       "      <th>carat</th>\n",
       "      <th>depth</th>\n",
       "      <th>table</th>\n",
       "      <th>price</th>\n",
       "      <th>x</th>\n",
       "      <th>y</th>\n",
       "      <th>z</th>\n",
       "    </tr>\n",
       "  </thead>\n",
       "  <tbody>\n",
       "    <tr>\n",
       "      <th>count</th>\n",
       "      <td>53940.000000</td>\n",
       "      <td>53940.000000</td>\n",
       "      <td>53940.000000</td>\n",
       "      <td>53940.000000</td>\n",
       "      <td>53940.000000</td>\n",
       "      <td>53940.000000</td>\n",
       "      <td>53940.000000</td>\n",
       "    </tr>\n",
       "    <tr>\n",
       "      <th>mean</th>\n",
       "      <td>0.797940</td>\n",
       "      <td>61.749405</td>\n",
       "      <td>57.457184</td>\n",
       "      <td>3932.799722</td>\n",
       "      <td>5.731157</td>\n",
       "      <td>5.734526</td>\n",
       "      <td>3.538734</td>\n",
       "    </tr>\n",
       "    <tr>\n",
       "      <th>std</th>\n",
       "      <td>0.474011</td>\n",
       "      <td>1.432621</td>\n",
       "      <td>2.234491</td>\n",
       "      <td>3989.439738</td>\n",
       "      <td>1.121761</td>\n",
       "      <td>1.142135</td>\n",
       "      <td>0.705699</td>\n",
       "    </tr>\n",
       "    <tr>\n",
       "      <th>min</th>\n",
       "      <td>0.200000</td>\n",
       "      <td>43.000000</td>\n",
       "      <td>43.000000</td>\n",
       "      <td>326.000000</td>\n",
       "      <td>0.000000</td>\n",
       "      <td>0.000000</td>\n",
       "      <td>0.000000</td>\n",
       "    </tr>\n",
       "    <tr>\n",
       "      <th>25%</th>\n",
       "      <td>0.400000</td>\n",
       "      <td>61.000000</td>\n",
       "      <td>56.000000</td>\n",
       "      <td>950.000000</td>\n",
       "      <td>4.710000</td>\n",
       "      <td>4.720000</td>\n",
       "      <td>2.910000</td>\n",
       "    </tr>\n",
       "    <tr>\n",
       "      <th>50%</th>\n",
       "      <td>0.700000</td>\n",
       "      <td>61.800000</td>\n",
       "      <td>57.000000</td>\n",
       "      <td>2401.000000</td>\n",
       "      <td>5.700000</td>\n",
       "      <td>5.710000</td>\n",
       "      <td>3.530000</td>\n",
       "    </tr>\n",
       "    <tr>\n",
       "      <th>75%</th>\n",
       "      <td>1.040000</td>\n",
       "      <td>62.500000</td>\n",
       "      <td>59.000000</td>\n",
       "      <td>5324.250000</td>\n",
       "      <td>6.540000</td>\n",
       "      <td>6.540000</td>\n",
       "      <td>4.040000</td>\n",
       "    </tr>\n",
       "    <tr>\n",
       "      <th>max</th>\n",
       "      <td>5.010000</td>\n",
       "      <td>79.000000</td>\n",
       "      <td>95.000000</td>\n",
       "      <td>18823.000000</td>\n",
       "      <td>10.740000</td>\n",
       "      <td>58.900000</td>\n",
       "      <td>31.800000</td>\n",
       "    </tr>\n",
       "  </tbody>\n",
       "</table>\n",
       "</div>"
      ],
      "text/plain": [
       "              carat         depth         table         price             x  \\\n",
       "count  53940.000000  53940.000000  53940.000000  53940.000000  53940.000000   \n",
       "mean       0.797940     61.749405     57.457184   3932.799722      5.731157   \n",
       "std        0.474011      1.432621      2.234491   3989.439738      1.121761   \n",
       "min        0.200000     43.000000     43.000000    326.000000      0.000000   \n",
       "25%        0.400000     61.000000     56.000000    950.000000      4.710000   \n",
       "50%        0.700000     61.800000     57.000000   2401.000000      5.700000   \n",
       "75%        1.040000     62.500000     59.000000   5324.250000      6.540000   \n",
       "max        5.010000     79.000000     95.000000  18823.000000     10.740000   \n",
       "\n",
       "                  y             z  \n",
       "count  53940.000000  53940.000000  \n",
       "mean       5.734526      3.538734  \n",
       "std        1.142135      0.705699  \n",
       "min        0.000000      0.000000  \n",
       "25%        4.720000      2.910000  \n",
       "50%        5.710000      3.530000  \n",
       "75%        6.540000      4.040000  \n",
       "max       58.900000     31.800000  "
      ]
     },
     "execution_count": 145,
     "metadata": {},
     "output_type": "execute_result"
    }
   ],
   "source": [
    "df.describe()"
   ]
  },
  {
   "cell_type": "code",
   "execution_count": 146,
   "metadata": {},
   "outputs": [
    {
     "data": {
      "text/html": [
       "<div>\n",
       "<style>\n",
       "    .dataframe thead tr:only-child th {\n",
       "        text-align: right;\n",
       "    }\n",
       "\n",
       "    .dataframe thead th {\n",
       "        text-align: left;\n",
       "    }\n",
       "\n",
       "    .dataframe tbody tr th {\n",
       "        vertical-align: top;\n",
       "    }\n",
       "</style>\n",
       "<table border=\"1\" class=\"dataframe\">\n",
       "  <thead>\n",
       "    <tr style=\"text-align: right;\">\n",
       "      <th></th>\n",
       "      <th>carat</th>\n",
       "      <th>cut</th>\n",
       "      <th>color</th>\n",
       "      <th>clarity</th>\n",
       "      <th>depth</th>\n",
       "      <th>table</th>\n",
       "      <th>price</th>\n",
       "      <th>x</th>\n",
       "      <th>y</th>\n",
       "      <th>z</th>\n",
       "    </tr>\n",
       "  </thead>\n",
       "  <tbody>\n",
       "    <tr>\n",
       "      <th>1</th>\n",
       "      <td>0.23</td>\n",
       "      <td>Ideal</td>\n",
       "      <td>E</td>\n",
       "      <td>SI2</td>\n",
       "      <td>61.5</td>\n",
       "      <td>55.0</td>\n",
       "      <td>326</td>\n",
       "      <td>3.95</td>\n",
       "      <td>3.98</td>\n",
       "      <td>2.43</td>\n",
       "    </tr>\n",
       "    <tr>\n",
       "      <th>2</th>\n",
       "      <td>0.21</td>\n",
       "      <td>Premium</td>\n",
       "      <td>E</td>\n",
       "      <td>SI1</td>\n",
       "      <td>59.8</td>\n",
       "      <td>61.0</td>\n",
       "      <td>326</td>\n",
       "      <td>3.89</td>\n",
       "      <td>3.84</td>\n",
       "      <td>2.31</td>\n",
       "    </tr>\n",
       "    <tr>\n",
       "      <th>3</th>\n",
       "      <td>0.23</td>\n",
       "      <td>Good</td>\n",
       "      <td>E</td>\n",
       "      <td>VS1</td>\n",
       "      <td>56.9</td>\n",
       "      <td>65.0</td>\n",
       "      <td>327</td>\n",
       "      <td>4.05</td>\n",
       "      <td>4.07</td>\n",
       "      <td>2.31</td>\n",
       "    </tr>\n",
       "    <tr>\n",
       "      <th>4</th>\n",
       "      <td>0.29</td>\n",
       "      <td>Premium</td>\n",
       "      <td>I</td>\n",
       "      <td>VS2</td>\n",
       "      <td>62.4</td>\n",
       "      <td>58.0</td>\n",
       "      <td>334</td>\n",
       "      <td>4.20</td>\n",
       "      <td>4.23</td>\n",
       "      <td>2.63</td>\n",
       "    </tr>\n",
       "    <tr>\n",
       "      <th>5</th>\n",
       "      <td>0.31</td>\n",
       "      <td>Good</td>\n",
       "      <td>J</td>\n",
       "      <td>SI2</td>\n",
       "      <td>63.3</td>\n",
       "      <td>58.0</td>\n",
       "      <td>335</td>\n",
       "      <td>4.34</td>\n",
       "      <td>4.35</td>\n",
       "      <td>2.75</td>\n",
       "    </tr>\n",
       "  </tbody>\n",
       "</table>\n",
       "</div>"
      ],
      "text/plain": [
       "   carat      cut color clarity  depth  table  price     x     y     z\n",
       "1   0.23    Ideal     E     SI2   61.5   55.0    326  3.95  3.98  2.43\n",
       "2   0.21  Premium     E     SI1   59.8   61.0    326  3.89  3.84  2.31\n",
       "3   0.23     Good     E     VS1   56.9   65.0    327  4.05  4.07  2.31\n",
       "4   0.29  Premium     I     VS2   62.4   58.0    334  4.20  4.23  2.63\n",
       "5   0.31     Good     J     SI2   63.3   58.0    335  4.34  4.35  2.75"
      ]
     },
     "execution_count": 146,
     "metadata": {},
     "output_type": "execute_result"
    }
   ],
   "source": [
    "df.head()"
   ]
  },
  {
   "cell_type": "code",
   "execution_count": 147,
   "metadata": {},
   "outputs": [
    {
     "data": {
      "text/html": [
       "<div>\n",
       "<style>\n",
       "    .dataframe thead tr:only-child th {\n",
       "        text-align: right;\n",
       "    }\n",
       "\n",
       "    .dataframe thead th {\n",
       "        text-align: left;\n",
       "    }\n",
       "\n",
       "    .dataframe tbody tr th {\n",
       "        vertical-align: top;\n",
       "    }\n",
       "</style>\n",
       "<table border=\"1\" class=\"dataframe\">\n",
       "  <thead>\n",
       "    <tr style=\"text-align: right;\">\n",
       "      <th></th>\n",
       "      <th>carat</th>\n",
       "      <th>cut</th>\n",
       "      <th>color</th>\n",
       "      <th>clarity</th>\n",
       "      <th>depth</th>\n",
       "      <th>table</th>\n",
       "      <th>price</th>\n",
       "      <th>x</th>\n",
       "      <th>y</th>\n",
       "      <th>z</th>\n",
       "    </tr>\n",
       "  </thead>\n",
       "  <tbody>\n",
       "    <tr>\n",
       "      <th>53936</th>\n",
       "      <td>0.72</td>\n",
       "      <td>Ideal</td>\n",
       "      <td>D</td>\n",
       "      <td>SI1</td>\n",
       "      <td>60.8</td>\n",
       "      <td>57.0</td>\n",
       "      <td>2757</td>\n",
       "      <td>5.75</td>\n",
       "      <td>5.76</td>\n",
       "      <td>3.50</td>\n",
       "    </tr>\n",
       "    <tr>\n",
       "      <th>53937</th>\n",
       "      <td>0.72</td>\n",
       "      <td>Good</td>\n",
       "      <td>D</td>\n",
       "      <td>SI1</td>\n",
       "      <td>63.1</td>\n",
       "      <td>55.0</td>\n",
       "      <td>2757</td>\n",
       "      <td>5.69</td>\n",
       "      <td>5.75</td>\n",
       "      <td>3.61</td>\n",
       "    </tr>\n",
       "    <tr>\n",
       "      <th>53938</th>\n",
       "      <td>0.70</td>\n",
       "      <td>Very Good</td>\n",
       "      <td>D</td>\n",
       "      <td>SI1</td>\n",
       "      <td>62.8</td>\n",
       "      <td>60.0</td>\n",
       "      <td>2757</td>\n",
       "      <td>5.66</td>\n",
       "      <td>5.68</td>\n",
       "      <td>3.56</td>\n",
       "    </tr>\n",
       "    <tr>\n",
       "      <th>53939</th>\n",
       "      <td>0.86</td>\n",
       "      <td>Premium</td>\n",
       "      <td>H</td>\n",
       "      <td>SI2</td>\n",
       "      <td>61.0</td>\n",
       "      <td>58.0</td>\n",
       "      <td>2757</td>\n",
       "      <td>6.15</td>\n",
       "      <td>6.12</td>\n",
       "      <td>3.74</td>\n",
       "    </tr>\n",
       "    <tr>\n",
       "      <th>53940</th>\n",
       "      <td>0.75</td>\n",
       "      <td>Ideal</td>\n",
       "      <td>D</td>\n",
       "      <td>SI2</td>\n",
       "      <td>62.2</td>\n",
       "      <td>55.0</td>\n",
       "      <td>2757</td>\n",
       "      <td>5.83</td>\n",
       "      <td>5.87</td>\n",
       "      <td>3.64</td>\n",
       "    </tr>\n",
       "  </tbody>\n",
       "</table>\n",
       "</div>"
      ],
      "text/plain": [
       "       carat        cut color clarity  depth  table  price     x     y     z\n",
       "53936   0.72      Ideal     D     SI1   60.8   57.0   2757  5.75  5.76  3.50\n",
       "53937   0.72       Good     D     SI1   63.1   55.0   2757  5.69  5.75  3.61\n",
       "53938   0.70  Very Good     D     SI1   62.8   60.0   2757  5.66  5.68  3.56\n",
       "53939   0.86    Premium     H     SI2   61.0   58.0   2757  6.15  6.12  3.74\n",
       "53940   0.75      Ideal     D     SI2   62.2   55.0   2757  5.83  5.87  3.64"
      ]
     },
     "execution_count": 147,
     "metadata": {},
     "output_type": "execute_result"
    }
   ],
   "source": [
    "df.tail()"
   ]
  },
  {
   "cell_type": "code",
   "execution_count": 148,
   "metadata": {},
   "outputs": [
    {
     "data": {
      "text/plain": [
       "<matplotlib.axes._subplots.AxesSubplot at 0x2309613d668>"
      ]
     },
     "execution_count": 148,
     "metadata": {},
     "output_type": "execute_result"
    },
    {
     "data": {
      "image/png": "[encoded data removed]",
      "text/plain": [
       "<matplotlib.figure.Figure at 0x230959524a8>"
      ]
     },
     "metadata": {},
     "output_type": "display_data"
    }
   ],
   "source": [
    "# Heatmap to see feature correlations with price\n",
    "sns.heatmap(df.corr(), annot=True)"
   ]
  },
  {
   "cell_type": "code",
   "execution_count": 149,
   "metadata": {},
   "outputs": [
    {
     "data": {
      "text/plain": [
       "<matplotlib.axes._subplots.AxesSubplot at 0x23090391940>"
      ]
     },
     "execution_count": 149,
     "metadata": {},
     "output_type": "execute_result"
    },
    {
     "data": {
      "image/png": "[encoded data removed]",
      "text/plain": [
       "<matplotlib.figure.Figure at 0x23093ed3e48>"
      ]
     },
     "metadata": {},
     "output_type": "display_data"
    }
   ],
   "source": [
    "# Barplot of price vs cut\n",
    "sns.barplot(x='cut',y='price', data=df, ci=None)"
   ]
  },
  {
   "cell_type": "code",
   "execution_count": 150,
   "metadata": {},
   "outputs": [
    {
     "data": {
      "text/plain": [
       "<matplotlib.axes._subplots.AxesSubplot at 0x23090507828>"
      ]
     },
     "execution_count": 150,
     "metadata": {},
     "output_type": "execute_result"
    },
    {
     "data": {
      "image/png": "[encoded data removed]",
      "text/plain": [
       "<matplotlib.figure.Figure at 0x2309057ca58>"
      ]
     },
     "metadata": {},
     "output_type": "display_data"
    }
   ],
   "source": [
    "# Boxplot of price vs cut\n",
    "sns.boxplot(x='cut',y='price', data=df)"
   ]
  },
  {
   "cell_type": "code",
   "execution_count": 151,
   "metadata": {},
   "outputs": [
    {
     "data": {
      "text/plain": [
       "<matplotlib.axes._subplots.AxesSubplot at 0x230904d89b0>"
      ]
     },
     "execution_count": 151,
     "metadata": {},
     "output_type": "execute_result"
    },
    {
     "data": {
      "image/png": "[encoded data removed]",
      "text/plain": [
       "<matplotlib.figure.Figure at 0x230905e7438>"
      ]
     },
     "metadata": {},
     "output_type": "display_data"
    }
   ],
   "source": [
    "# Barplot of price vs color\n",
    "sns.barplot(x='color',y='price', data=df, ci=None)"
   ]
  },
  {
   "cell_type": "code",
   "execution_count": 152,
   "metadata": {},
   "outputs": [
    {
     "data": {
      "text/plain": [
       "<matplotlib.axes._subplots.AxesSubplot at 0x230961db3c8>"
      ]
     },
     "execution_count": 152,
     "metadata": {},
     "output_type": "execute_result"
    },
    {
     "data": {
      "image/png": "[encoded data removed]",
      "text/plain": [
       "<matplotlib.figure.Figure at 0x23093f35470>"
      ]
     },
     "metadata": {},
     "output_type": "display_data"
    }
   ],
   "source": [
    "# Boxplot of price vs color\n",
    "sns.boxplot(x='color',y='price', data=df)"
   ]
  },
  {
   "cell_type": "code",
   "execution_count": 153,
   "metadata": {
    "scrolled": true
   },
   "outputs": [
    {
     "data": {
      "text/plain": [
       "<matplotlib.axes._subplots.AxesSubplot at 0x2309632d278>"
      ]
     },
     "execution_count": 153,
     "metadata": {},
     "output_type": "execute_result"
    },
    {
     "data": {
      "image/png": "[encoded data removed]",
      "text/plain": [
       "<matplotlib.figure.Figure at 0x2309606f588>"
      ]
     },
     "metadata": {},
     "output_type": "display_data"
    }
   ],
   "source": [
    "# Barplot of price vs clarity\n",
    "sns.barplot(x='clarity',y='price', data=df, ci=None)"
   ]
  },
  {
   "cell_type": "code",
   "execution_count": 154,
   "metadata": {},
   "outputs": [
    {
     "data": {
      "text/plain": [
       "<matplotlib.axes._subplots.AxesSubplot at 0x230966be358>"
      ]
     },
     "execution_count": 154,
     "metadata": {},
     "output_type": "execute_result"
    },
    {
     "data": {
      "image/png": "[encoded data removed]",
      "text/plain": [
       "<matplotlib.figure.Figure at 0x23096327d30>"
      ]
     },
     "metadata": {},
     "output_type": "display_data"
    }
   ],
   "source": [
    "# Boxplot of price vs clarity\n",
    "sns.boxplot(x='clarity',y='price', data=df)"
   ]
  },
  {
   "cell_type": "markdown",
   "metadata": {},
   "source": [
    "#### Initial Thoughts\n",
    "\n",
    "1. carat - the heatmap shows a very strong correlation with price\n",
    "2. cut - the bar and boxplots don't show a significant relationship between cut and price   \n",
    "3. color - the bar and boxplots show that some colors demand a higher price than others \n",
    "4. clarity - the bar and boxplots show that SII2 fetches a higher price than others\n",
    "5. depth - from heatmap, does not have much correlation with price, which is surprising to me\n",
    "6. table - from heatmap does not have much correlation with price\n",
    "7. price - the price of the diamond which will be the label\n",
    "8. x - length mm - strong correlation with price \n",
    "9. y - width mm - strong correlation with price\n",
    "10. z - depth mm - strong correlation with price"
   ]
  },
  {
   "cell_type": "markdown",
   "metadata": {},
   "source": [
    "### Step 2: Cleaning the Data"
   ]
  },
  {
   "cell_type": "code",
   "execution_count": 155,
   "metadata": {},
   "outputs": [
    {
     "name": "stdout",
     "output_type": "stream",
     "text": [
      "8\n",
      "7\n",
      "20\n"
     ]
    }
   ],
   "source": [
    "print((df.x==0).sum())\n",
    "print((df.y==0).sum())\n",
    "print((df.z==0).sum())"
   ]
  },
  {
   "cell_type": "markdown",
   "metadata": {},
   "source": [
    "It was noticed from df.describe() that the minimum values of x, y and z are 0, which is not possible. There are 8+7+20 values in total, which is very little compared to the 50,000+ row dataset, so it should be okay to drop these rows in the steps below."
   ]
  },
  {
   "cell_type": "code",
   "execution_count": 156,
   "metadata": {},
   "outputs": [
    {
     "name": "stdout",
     "output_type": "stream",
     "text": [
      "<class 'pandas.core.frame.DataFrame'>\n",
      "Int64Index: 53940 entries, 1 to 53940\n",
      "Data columns (total 10 columns):\n",
      "carat      53940 non-null float64\n",
      "cut        53940 non-null object\n",
      "color      53940 non-null object\n",
      "clarity    53940 non-null object\n",
      "depth      53940 non-null float64\n",
      "table      53940 non-null float64\n",
      "price      53940 non-null int64\n",
      "x          53932 non-null float64\n",
      "y          53933 non-null float64\n",
      "z          53920 non-null float64\n",
      "dtypes: float64(6), int64(1), object(3)\n",
      "memory usage: 7.0+ MB\n"
     ]
    }
   ],
   "source": [
    "df[['x','y','z']]=df[['x','y','z']].replace(0,np.nan)\n",
    "df.info()"
   ]
  },
  {
   "cell_type": "code",
   "execution_count": 157,
   "metadata": {},
   "outputs": [
    {
     "name": "stdout",
     "output_type": "stream",
     "text": [
      "<class 'pandas.core.frame.DataFrame'>\n",
      "Int64Index: 53920 entries, 1 to 53940\n",
      "Data columns (total 10 columns):\n",
      "carat      53920 non-null float64\n",
      "cut        53920 non-null object\n",
      "color      53920 non-null object\n",
      "clarity    53920 non-null object\n",
      "depth      53920 non-null float64\n",
      "table      53920 non-null float64\n",
      "price      53920 non-null int64\n",
      "x          53920 non-null float64\n",
      "y          53920 non-null float64\n",
      "z          53920 non-null float64\n",
      "dtypes: float64(6), int64(1), object(3)\n",
      "memory usage: 4.5+ MB\n"
     ]
    }
   ],
   "source": [
    "df=df.dropna()\n",
    "df.info()"
   ]
  },
  {
   "cell_type": "markdown",
   "metadata": {},
   "source": [
    "As scikit-learn does not accept categorical features by default, we will encode the categorical features numerically by using the pandas get_dummies() method."
   ]
  },
  {
   "cell_type": "code",
   "execution_count": 158,
   "metadata": {},
   "outputs": [
    {
     "name": "stdout",
     "output_type": "stream",
     "text": [
      "<class 'pandas.core.frame.DataFrame'>\n",
      "Int64Index: 53920 entries, 1 to 53940\n",
      "Data columns (total 27 columns):\n",
      "carat            53920 non-null float64\n",
      "depth            53920 non-null float64\n",
      "table            53920 non-null float64\n",
      "price            53920 non-null int64\n",
      "x                53920 non-null float64\n",
      "y                53920 non-null float64\n",
      "z                53920 non-null float64\n",
      "cut_Fair         53920 non-null uint8\n",
      "cut_Good         53920 non-null uint8\n",
      "cut_Ideal        53920 non-null uint8\n",
      "cut_Premium      53920 non-null uint8\n",
      "cut_Very Good    53920 non-null uint8\n",
      "color_D          53920 non-null uint8\n",
      "color_E          53920 non-null uint8\n",
      "color_F          53920 non-null uint8\n",
      "color_G          53920 non-null uint8\n",
      "color_H          53920 non-null uint8\n",
      "color_I          53920 non-null uint8\n",
      "color_J          53920 non-null uint8\n",
      "clarity_I1       53920 non-null uint8\n",
      "clarity_IF       53920 non-null uint8\n",
      "clarity_SI1      53920 non-null uint8\n",
      "clarity_SI2      53920 non-null uint8\n",
      "clarity_VS1      53920 non-null uint8\n",
      "clarity_VS2      53920 non-null uint8\n",
      "clarity_VVS1     53920 non-null uint8\n",
      "clarity_VVS2     53920 non-null uint8\n",
      "dtypes: float64(6), int64(1), uint8(20)\n",
      "memory usage: 4.3 MB\n"
     ]
    }
   ],
   "source": [
    "df_dummies = pd.get_dummies(df)\n",
    "df_dummies.info()"
   ]
  },
  {
   "cell_type": "markdown",
   "metadata": {},
   "source": [
    "We can drop 3 redundant 'dummy' columns here. For example for \"cut\", we can remove \"cut_Fair\". Why: a diamond that does not fulfil any of the other remaining cuts has to be \"cut_Fair\"."
   ]
  },
  {
   "cell_type": "code",
   "execution_count": 159,
   "metadata": {},
   "outputs": [
    {
     "name": "stdout",
     "output_type": "stream",
     "text": [
      "<class 'pandas.core.frame.DataFrame'>\n",
      "Int64Index: 53920 entries, 1 to 53940\n",
      "Data columns (total 24 columns):\n",
      "carat            53920 non-null float64\n",
      "depth            53920 non-null float64\n",
      "table            53920 non-null float64\n",
      "price            53920 non-null int64\n",
      "x                53920 non-null float64\n",
      "y                53920 non-null float64\n",
      "z                53920 non-null float64\n",
      "cut_Good         53920 non-null uint8\n",
      "cut_Ideal        53920 non-null uint8\n",
      "cut_Premium      53920 non-null uint8\n",
      "cut_Very Good    53920 non-null uint8\n",
      "color_E          53920 non-null uint8\n",
      "color_F          53920 non-null uint8\n",
      "color_G          53920 non-null uint8\n",
      "color_H          53920 non-null uint8\n",
      "color_I          53920 non-null uint8\n",
      "color_J          53920 non-null uint8\n",
      "clarity_IF       53920 non-null uint8\n",
      "clarity_SI1      53920 non-null uint8\n",
      "clarity_SI2      53920 non-null uint8\n",
      "clarity_VS1      53920 non-null uint8\n",
      "clarity_VS2      53920 non-null uint8\n",
      "clarity_VVS1     53920 non-null uint8\n",
      "clarity_VVS2     53920 non-null uint8\n",
      "dtypes: float64(6), int64(1), uint8(17)\n",
      "memory usage: 4.2 MB\n"
     ]
    }
   ],
   "source": [
    "df_dummies = df_dummies.drop(['cut_Fair','color_D','clarity_I1'], axis = 1)\n",
    "df_dummies.info()"
   ]
  },
  {
   "cell_type": "code",
   "execution_count": 160,
   "metadata": {},
   "outputs": [
    {
     "name": "stdout",
     "output_type": "stream",
     "text": [
      "(53920,)\n",
      "(53920, 23)\n"
     ]
    }
   ],
   "source": [
    "y = df_dummies['price'].values\n",
    "print(y.shape)\n",
    "X = df_dummies.drop(\"price\", axis=1).values\n",
    "print(X.shape)"
   ]
  },
  {
   "cell_type": "markdown",
   "metadata": {},
   "source": [
    "### Step 3: Model Selection and Tuning\n",
    "\n",
    "We start by using a standard Linear Regression."
   ]
  },
  {
   "cell_type": "code",
   "execution_count": 174,
   "metadata": {},
   "outputs": [
    {
     "name": "stdout",
     "output_type": "stream",
     "text": [
      "Training accuracy:  0.921496341027\n",
      "Test accuracy:  0.915772339954\n",
      "R2 score:  0.915772339954\n",
      "Root mean squared error:  1158.93930102\n",
      "Coefficients: \n",
      " [ 5494.79809203   -97.4137931    -57.0427134  -1262.23826733    14.36794629\n",
      "   -69.81707508   163.73764043   405.49716014   330.94578607   300.88565062\n",
      "   -78.7750505    -96.52003686  -186.5293235   -346.89406696  -443.61616464\n",
      "  -525.91190711   932.78399149  1487.64367205   957.41177931  1571.5672719\n",
      "  1715.83403591  1213.00371926  1390.19083621]\n"
     ]
    }
   ],
   "source": [
    "steps = [('scaler', StandardScaler()), ('reg', LinearRegression())]\n",
    "\n",
    "pipeline=Pipeline(steps)\n",
    "\n",
    "X_train, X_test, y_train, y_test = train_test_split(X,y,test_size=0.25, random_state=33)\n",
    "\n",
    "pipeline.fit(X_train, y_train)\n",
    "y_pred = pipeline.predict(X_test)\n",
    "\n",
    "print(\"Training accuracy: \", pipeline.score(X_train, y_train))\n",
    "print(\"Test accuracy: \", pipeline.score(X_test, y_test))\n",
    "print(\"R2 score: \", r2_score(y_test, y_pred))\n",
    "print(\"Root mean squared error: \", np.sqrt(mean_squared_error(y_test, y_pred)))\n",
    "\n",
    "reg = pipeline.named_steps['reg']\n",
    "print(\"Coefficients: \\n\", reg.coef_)"
   ]
  },
  {
   "cell_type": "markdown",
   "metadata": {},
   "source": [
    "Linear regression chooses a coefficient for each feature variable to minimise a loss function. Overly large coefficients can lead to overfitting. To avoid this, regularization is applied to penalize these large coefficients, by either ridge or lasso regression. This will likely decrease the training accuracy but increase the test accuracy."
   ]
  },
  {
   "cell_type": "code",
   "execution_count": 180,
   "metadata": {},
   "outputs": [
    {
     "name": "stdout",
     "output_type": "stream",
     "text": [
      "Tuned hyperparameters:  {'ridge__alpha': 65.0}\n",
      "Training accuracy:  0.921223428931\n",
      "Test accuracy:  0.915248584491\n",
      "R2 score:  0.915248584491\n",
      "Root mean squared error:  1162.53705073\n",
      "Coefficients: \n",
      " [  5.23434642e+03  -8.46423377e+01  -5.75087258e+01  -9.75790805e+02\n",
      "   4.26519265e-02  -9.28703312e+01   1.67048402e+02   4.12359252e+02\n",
      "   3.36753724e+02   3.08603895e+02  -7.66371044e+01  -9.60821210e+01\n",
      "  -1.83776565e+02  -3.41713495e+02  -4.35430372e+02  -5.17966891e+02\n",
      "   8.67735793e+02   1.32757186e+03   8.21200520e+02   1.43812257e+03\n",
      "   1.56068281e+03   1.12274147e+03   1.28405355e+03]\n"
     ]
    }
   ],
   "source": [
    "# Ridge model\n",
    "steps = [('scaler', StandardScaler()), ('ridge', Ridge())]\n",
    "\n",
    "pipeline=Pipeline(steps)\n",
    "\n",
    "X_train, X_test, y_train, y_test = train_test_split(X,y,test_size=0.25, random_state=33)\n",
    "\n",
    "alphas = np.linspace(50, 80, 15)\n",
    "parameters = {'ridge__alpha':alphas}\n",
    "cv = GridSearchCV(pipeline, param_grid=parameters)\n",
    "\n",
    "cv.fit(X_train, y_train)\n",
    "y_pred = cv.predict(X_test)\n",
    "\n",
    "print(\"Tuned hyperparameters: \", cv.best_params_)\n",
    "print(\"Training accuracy: \", cv.score(X_train, y_train))\n",
    "print(\"Test accuracy: \", cv.score(X_test, y_test))\n",
    "print(\"R2 score: \", r2_score(y_test, y_pred))\n",
    "print(\"Root mean squared error: \", np.sqrt(mean_squared_error(y_test, y_pred)))\n",
    "\n",
    "ridge = cv.best_estimator_.named_steps['ridge']\n",
    "print(\"Coefficients: \\n\", ridge.coef_)"
   ]
  },
  {
   "cell_type": "code",
   "execution_count": 163,
   "metadata": {},
   "outputs": [
    {
     "name": "stdout",
     "output_type": "stream",
     "text": [
      "Tuned hyperparameters:  {'lasso__alpha': 4.0}\n",
      "Training accuracy:  0.920882150548\n",
      "Test accuracy:  0.9144122518\n",
      "R2 score:  0.9144122518\n",
      "Root mean squared error:  1168.25896638\n"
     ]
    }
   ],
   "source": [
    "# Lasso model\n",
    "steps = [('scaler', StandardScaler()), ('lasso', Lasso())]\n",
    "\n",
    "pipeline=Pipeline(steps)\n",
    "\n",
    "X_train, X_test, y_train, y_test = train_test_split(X,y,test_size=0.25, random_state=33)\n",
    "\n",
    "alphas = np.linspace(4, 20, 15)\n",
    "parameters = {'lasso__alpha':alphas}\n",
    "cv = GridSearchCV(pipeline, param_grid=parameters)\n",
    "\n",
    "cv.fit(X_train, y_train)\n",
    "y_pred = cv.predict(X_test)\n",
    "\n",
    "print(\"Tuned hyperparameters: \", cv.best_params_)\n",
    "print(\"Training accuracy: \", cv.score(X_train, y_train))\n",
    "print(\"Test accuracy: \", cv.score(X_test, y_test))\n",
    "print(\"R2 score: \", r2_score(y_test, y_pred))\n",
    "print(\"Root mean squared error: \", np.sqrt(mean_squared_error(y_test, y_pred)))"
   ]
  },
  {
   "cell_type": "markdown",
   "metadata": {
    "collapsed": true
   },
   "source": [
    "### Step 4: Conclusion\n",
    "\n",
    "The difference between the Linear Regression, Ridge, and Lasso is very slight, with the Linear Regression model performing the best with **92.1% training accuracy** and **91.6% test accuracy**. I expected the Ridge and Lasso models with optimized hyperparameters to perform much better, but since the difference is slight, the coefficients are probably not large in the first place. Out of curiosity, I printed the coefficients of the Linear Regression and Ridge models for comparison, and the orders of magnitude do not look very different. Overall, the model performed well with high test accuracy, and minimal overfitting."
   ]
  },
  {
   "cell_type": "code",
   "execution_count": null,
   "metadata": {
    "collapsed": true
   },
   "outputs": [],
   "source": []
  }
 ],
 "metadata": {
  "kernelspec": {
   "display_name": "Python 3",
   "language": "python",
   "name": "python3"
  },
  "language_info": {
   "codemirror_mode": {
    "name": "ipython",
    "version": 3
   },
   "file_extension": ".py",
   "mimetype": "text/x-python",
   "name": "python",
   "nbconvert_exporter": "python",
   "pygments_lexer": "ipython3",
   "version": "3.6.1"
  }
 },
 "nbformat": 4,
 "nbformat_minor": 2
}
