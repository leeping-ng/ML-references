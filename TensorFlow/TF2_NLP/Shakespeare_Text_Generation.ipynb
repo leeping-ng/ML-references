{
 "cells": [
  {
   "cell_type": "code",
   "execution_count": 4,
   "metadata": {
    "colab": {},
    "colab_type": "code",
    "id": "zX4Kg8DUTKWO"
   },
   "outputs": [],
   "source": [
    "#@title Licensed under the Apache License, Version 2.0 (the \"License\");\n",
    "# you may not use this file except in compliance with the License.\n",
    "# You may obtain a copy of the License at\n",
    "#\n",
    "# https://www.apache.org/licenses/LICENSE-2.0\n",
    "#\n",
    "# Unless required by applicable law or agreed to in writing, software\n",
    "# distributed under the License is distributed on an \"AS IS\" BASIS,\n",
    "# WITHOUT WARRANTIES OR CONDITIONS OF ANY KIND, either express or implied.\n",
    "# See the License for the specific language governing permissions and\n",
    "# limitations under the License."
   ]
  },
  {
   "cell_type": "code",
   "execution_count": 5,
   "metadata": {
    "colab": {},
    "colab_type": "code",
    "id": "BOwsuGQQY9OL"
   },
   "outputs": [],
   "source": [
    "from tensorflow.keras.preprocessing.sequence import pad_sequences\n",
    "from tensorflow.keras.layers import Embedding, LSTM, Dense, Dropout, Bidirectional\n",
    "from tensorflow.keras.preprocessing.text import Tokenizer\n",
    "from tensorflow.keras.models import Sequential\n",
    "from tensorflow.keras.optimizers import Adam\n",
    "from tensorflow.keras import regularizers\n",
    "import tensorflow.keras.utils as ku \n",
    "import numpy as np "
   ]
  },
  {
   "cell_type": "code",
   "execution_count": 6,
   "metadata": {},
   "outputs": [
    {
     "name": "stderr",
     "output_type": "stream",
     "text": [
      "/usr/local/lib/python3.6/dist-packages/tensorflow_core/python/client/session.py:1750: UserWarning: An interactive session is already active. This can cause out-of-memory errors in some cases. You must explicitly call `InteractiveSession.close()` to release resources held by the other session(s).\n",
      "  warnings.warn('An interactive session is already active. This can '\n"
     ]
    }
   ],
   "source": [
    "import tensorflow as tf\n",
    "config = tf.compat.v1.ConfigProto()\n",
    "config.gpu_options.allow_growth = True\n",
    "session = tf.compat.v1.InteractiveSession(config=config)"
   ]
  },
  {
   "cell_type": "code",
   "execution_count": 7,
   "metadata": {
    "colab": {},
    "colab_type": "code",
    "id": "PRnDnCW-Z7qv"
   },
   "outputs": [],
   "source": [
    "tokenizer = Tokenizer()\n",
    "# !wget --no-check-certificate \\\n",
    "#     https://storage.googleapis.com/laurencemoroney-blog.appspot.com/sonnets.txt \\\n",
    "#     -O data/sonnets.txt\n",
    "data = open('data/sonnets.txt').read()\n",
    "\n",
    "corpus = data.lower().split(\"\\n\")\n",
    "\n",
    "\n",
    "tokenizer.fit_on_texts(corpus)\n",
    "total_words = len(tokenizer.word_index) + 1\n",
    "\n",
    "# create input sequences using list of tokens\n",
    "input_sequences = []\n",
    "for line in corpus:\n",
    "\ttoken_list = tokenizer.texts_to_sequences([line])[0]\n",
    "\tfor i in range(1, len(token_list)):\n",
    "\t\tn_gram_sequence = token_list[:i+1]\n",
    "\t\tinput_sequences.append(n_gram_sequence)\n",
    "\n",
    "\n",
    "# pad sequences \n",
    "max_sequence_len = max([len(x) for x in input_sequences])\n",
    "input_sequences = np.array(pad_sequences(input_sequences, maxlen=max_sequence_len, padding='pre'))\n",
    "\n",
    "# create predictors and label\n",
    "predictors, label = input_sequences[:,:-1],input_sequences[:,-1]\n",
    "\n",
    "label = ku.to_categorical(label, num_classes=total_words)"
   ]
  },
  {
   "cell_type": "code",
   "execution_count": 8,
   "metadata": {
    "colab": {},
    "colab_type": "code",
    "id": "w9vH8Y59ajYL"
   },
   "outputs": [
    {
     "name": "stdout",
     "output_type": "stream",
     "text": [
      "Model: \"sequential\"\n",
      "_________________________________________________________________\n",
      "Layer (type)                 Output Shape              Param #   \n",
      "=================================================================\n",
      "embedding (Embedding)        (None, 10, 100)           321100    \n",
      "_________________________________________________________________\n",
      "bidirectional (Bidirectional (None, 10, 300)           301200    \n",
      "_________________________________________________________________\n",
      "dropout (Dropout)            (None, 10, 300)           0         \n",
      "_________________________________________________________________\n",
      "lstm_1 (LSTM)                (None, 100)               160400    \n",
      "_________________________________________________________________\n",
      "dense (Dense)                (None, 1605)              162105    \n",
      "_________________________________________________________________\n",
      "dense_1 (Dense)              (None, 3211)              5156866   \n",
      "=================================================================\n",
      "Total params: 6,101,671\n",
      "Trainable params: 6,101,671\n",
      "Non-trainable params: 0\n",
      "_________________________________________________________________\n",
      "None\n"
     ]
    }
   ],
   "source": [
    "model = Sequential()\n",
    "model.add(Embedding(total_words, 100, input_length=max_sequence_len-1))\n",
    "model.add(Bidirectional(LSTM(150, return_sequences = True)))\n",
    "model.add(Dropout(0.2))\n",
    "model.add(LSTM(100))\n",
    "model.add(Dense(total_words/2, activation='relu', kernel_regularizer=regularizers.l2(0.01)))\n",
    "model.add(Dense(total_words, activation='softmax'))\n",
    "model.compile(loss='categorical_crossentropy', optimizer='adam', metrics=['accuracy'])\n",
    "print(model.summary())\n"
   ]
  },
  {
   "cell_type": "code",
   "execution_count": 9,
   "metadata": {
    "colab": {},
    "colab_type": "code",
    "id": "AIg2f1HBxqof"
   },
   "outputs": [
    {
     "name": "stdout",
     "output_type": "stream",
     "text": [
      "Train on 15462 samples\n",
      "Epoch 1/100\n",
      "15462/15462 [==============================] - 9s 580us/sample - loss: 6.8978 - accuracy: 0.0224\n",
      "Epoch 2/100\n",
      "15462/15462 [==============================] - 4s 272us/sample - loss: 6.4990 - accuracy: 0.0217\n",
      "Epoch 3/100\n",
      "15462/15462 [==============================] - 4s 276us/sample - loss: 6.3984 - accuracy: 0.0262\n",
      "Epoch 4/100\n",
      "15462/15462 [==============================] - 4s 273us/sample - loss: 6.2759 - accuracy: 0.0318\n",
      "Epoch 5/100\n",
      "15462/15462 [==============================] - 4s 276us/sample - loss: 6.1772 - accuracy: 0.0347\n",
      "Epoch 6/100\n",
      "15462/15462 [==============================] - 4s 275us/sample - loss: 6.0914 - accuracy: 0.0389\n",
      "Epoch 7/100\n",
      "15462/15462 [==============================] - 4s 274us/sample - loss: 6.0093 - accuracy: 0.0409\n",
      "Epoch 8/100\n",
      "15462/15462 [==============================] - 4s 273us/sample - loss: 5.9216 - accuracy: 0.0457\n",
      "Epoch 9/100\n",
      "15462/15462 [==============================] - 4s 274us/sample - loss: 5.8196 - accuracy: 0.0521\n",
      "Epoch 10/100\n",
      "15462/15462 [==============================] - 4s 274us/sample - loss: 5.7095 - accuracy: 0.0578\n",
      "Epoch 11/100\n",
      "15462/15462 [==============================] - 4s 274us/sample - loss: 5.6020 - accuracy: 0.0614\n",
      "Epoch 12/100\n",
      "15462/15462 [==============================] - 4s 273us/sample - loss: 5.4968 - accuracy: 0.0682\n",
      "Epoch 13/100\n",
      "15462/15462 [==============================] - 4s 275us/sample - loss: 5.3913 - accuracy: 0.0732\n",
      "Epoch 14/100\n",
      "15462/15462 [==============================] - 4s 277us/sample - loss: 5.2877 - accuracy: 0.0814\n",
      "Epoch 15/100\n",
      "15462/15462 [==============================] - 4s 277us/sample - loss: 5.1820 - accuracy: 0.0875\n",
      "Epoch 16/100\n",
      "15462/15462 [==============================] - 4s 277us/sample - loss: 5.0828 - accuracy: 0.0947\n",
      "Epoch 17/100\n",
      "15462/15462 [==============================] - 4s 280us/sample - loss: 4.9826 - accuracy: 0.1034\n",
      "Epoch 18/100\n",
      "15462/15462 [==============================] - 4s 279us/sample - loss: 4.8795 - accuracy: 0.1105\n",
      "Epoch 19/100\n",
      "15462/15462 [==============================] - 4s 282us/sample - loss: 4.7815 - accuracy: 0.1203\n",
      "Epoch 20/100\n",
      "15462/15462 [==============================] - 4s 291us/sample - loss: 4.6761 - accuracy: 0.1291\n",
      "Epoch 21/100\n",
      "15462/15462 [==============================] - 4s 285us/sample - loss: 4.5707 - accuracy: 0.1389\n",
      "Epoch 22/100\n",
      "15462/15462 [==============================] - 4s 285us/sample - loss: 4.4686 - accuracy: 0.1479\n",
      "Epoch 23/100\n",
      "15462/15462 [==============================] - 4s 285us/sample - loss: 4.3700 - accuracy: 0.1605\n",
      "Epoch 24/100\n",
      "15462/15462 [==============================] - 4s 291us/sample - loss: 4.2621 - accuracy: 0.1726\n",
      "Epoch 25/100\n",
      "15462/15462 [==============================] - 4s 286us/sample - loss: 4.1570 - accuracy: 0.1847\n",
      "Epoch 26/100\n",
      "15462/15462 [==============================] - 4s 285us/sample - loss: 4.0506 - accuracy: 0.2011\n",
      "Epoch 27/100\n",
      "15462/15462 [==============================] - 4s 287us/sample - loss: 3.9536 - accuracy: 0.2149\n",
      "Epoch 28/100\n",
      "15462/15462 [==============================] - 4s 288us/sample - loss: 3.8498 - accuracy: 0.2332\n",
      "Epoch 29/100\n",
      "15462/15462 [==============================] - 4s 288us/sample - loss: 3.7501 - accuracy: 0.2499\n",
      "Epoch 30/100\n",
      "15462/15462 [==============================] - 4s 286us/sample - loss: 3.6501 - accuracy: 0.2670\n",
      "Epoch 31/100\n",
      "15462/15462 [==============================] - 4s 286us/sample - loss: 3.5566 - accuracy: 0.2859\n",
      "Epoch 32/100\n",
      "15462/15462 [==============================] - 4s 289us/sample - loss: 3.4708 - accuracy: 0.3077\n",
      "Epoch 33/100\n",
      "15462/15462 [==============================] - 4s 289us/sample - loss: 3.3857 - accuracy: 0.3271\n",
      "Epoch 34/100\n",
      "15462/15462 [==============================] - 4s 288us/sample - loss: 3.2937 - accuracy: 0.3467\n",
      "Epoch 35/100\n",
      "15462/15462 [==============================] - 4s 288us/sample - loss: 3.2036 - accuracy: 0.3627\n",
      "Epoch 36/100\n",
      "15462/15462 [==============================] - 4s 290us/sample - loss: 3.1330 - accuracy: 0.3827\n",
      "Epoch 37/100\n",
      "15462/15462 [==============================] - 5s 301us/sample - loss: 3.0572 - accuracy: 0.4019\n",
      "Epoch 38/100\n",
      "15462/15462 [==============================] - 5s 295us/sample - loss: 2.9786 - accuracy: 0.4148\n",
      "Epoch 39/100\n",
      "15462/15462 [==============================] - 4s 290us/sample - loss: 2.9159 - accuracy: 0.4283\n",
      "Epoch 40/100\n",
      "15462/15462 [==============================] - 4s 291us/sample - loss: 2.8350 - accuracy: 0.4520\n",
      "Epoch 41/100\n",
      "15462/15462 [==============================] - 5s 291us/sample - loss: 2.7713 - accuracy: 0.4649\n",
      "Epoch 42/100\n",
      "15462/15462 [==============================] - 4s 289us/sample - loss: 2.7053 - accuracy: 0.4783\n",
      "Epoch 43/100\n",
      "15462/15462 [==============================] - 5s 292us/sample - loss: 2.6415 - accuracy: 0.4895\n",
      "Epoch 44/100\n",
      "15462/15462 [==============================] - 4s 291us/sample - loss: 2.5838 - accuracy: 0.5065\n",
      "Epoch 45/100\n",
      "15462/15462 [==============================] - 5s 291us/sample - loss: 2.5292 - accuracy: 0.5173\n",
      "Epoch 46/100\n",
      "15462/15462 [==============================] - 5s 292us/sample - loss: 2.4752 - accuracy: 0.5279\n",
      "Epoch 47/100\n",
      "15462/15462 [==============================] - 5s 293us/sample - loss: 2.4102 - accuracy: 0.5471\n",
      "Epoch 48/100\n",
      "15462/15462 [==============================] - 5s 294us/sample - loss: 2.3755 - accuracy: 0.5479\n",
      "Epoch 49/100\n",
      "15462/15462 [==============================] - 5s 297us/sample - loss: 2.3173 - accuracy: 0.5672\n",
      "Epoch 50/100\n",
      "15462/15462 [==============================] - 5s 293us/sample - loss: 2.2664 - accuracy: 0.5774\n",
      "Epoch 51/100\n",
      "15462/15462 [==============================] - 5s 292us/sample - loss: 2.2202 - accuracy: 0.5876\n",
      "Epoch 52/100\n",
      "15462/15462 [==============================] - 5s 293us/sample - loss: 2.1766 - accuracy: 0.5962\n",
      "Epoch 53/100\n",
      "15462/15462 [==============================] - 4s 289us/sample - loss: 2.1339 - accuracy: 0.6091\n",
      "Epoch 54/100\n",
      "15462/15462 [==============================] - 4s 289us/sample - loss: 2.0881 - accuracy: 0.6154\n",
      "Epoch 55/100\n",
      "15462/15462 [==============================] - 4s 289us/sample - loss: 2.0514 - accuracy: 0.6244\n",
      "Epoch 56/100\n",
      "15462/15462 [==============================] - 4s 289us/sample - loss: 2.0109 - accuracy: 0.6319\n",
      "Epoch 57/100\n",
      "15462/15462 [==============================] - 5s 291us/sample - loss: 1.9721 - accuracy: 0.6428\n",
      "Epoch 58/100\n",
      "15462/15462 [==============================] - 4s 289us/sample - loss: 1.9547 - accuracy: 0.6451\n",
      "Epoch 59/100\n",
      "15462/15462 [==============================] - 4s 290us/sample - loss: 1.8987 - accuracy: 0.6581\n",
      "Epoch 60/100\n",
      "15462/15462 [==============================] - 5s 291us/sample - loss: 1.8735 - accuracy: 0.6624\n",
      "Epoch 61/100\n",
      "15462/15462 [==============================] - 4s 290us/sample - loss: 1.8395 - accuracy: 0.6697\n",
      "Epoch 62/100\n",
      "15462/15462 [==============================] - 5s 295us/sample - loss: 1.8020 - accuracy: 0.6817\n",
      "Epoch 63/100\n",
      "15462/15462 [==============================] - 5s 294us/sample - loss: 1.7808 - accuracy: 0.6822\n",
      "Epoch 64/100\n",
      "15462/15462 [==============================] - 4s 291us/sample - loss: 1.7493 - accuracy: 0.6910\n",
      "Epoch 65/100\n",
      "15462/15462 [==============================] - 4s 291us/sample - loss: 1.7100 - accuracy: 0.6983\n",
      "Epoch 66/100\n",
      "15462/15462 [==============================] - 5s 292us/sample - loss: 1.6888 - accuracy: 0.7020\n",
      "Epoch 67/100\n",
      "15462/15462 [==============================] - 5s 292us/sample - loss: 1.6719 - accuracy: 0.7046\n",
      "Epoch 68/100\n",
      "15462/15462 [==============================] - 5s 299us/sample - loss: 1.6469 - accuracy: 0.7103\n",
      "Epoch 69/100\n",
      "15462/15462 [==============================] - 5s 301us/sample - loss: 1.6127 - accuracy: 0.7165\n",
      "Epoch 70/100\n",
      "15462/15462 [==============================] - 5s 295us/sample - loss: 1.5791 - accuracy: 0.7267\n",
      "Epoch 71/100\n",
      "15462/15462 [==============================] - 5s 296us/sample - loss: 1.5510 - accuracy: 0.7289\n",
      "Epoch 72/100\n",
      "15462/15462 [==============================] - 5s 296us/sample - loss: 1.5292 - accuracy: 0.7357\n",
      "Epoch 73/100\n",
      "15462/15462 [==============================] - 5s 298us/sample - loss: 1.5278 - accuracy: 0.7354\n",
      "Epoch 74/100\n",
      "15462/15462 [==============================] - 5s 295us/sample - loss: 1.4981 - accuracy: 0.7412\n",
      "Epoch 75/100\n"
     ]
    },
    {
     "name": "stdout",
     "output_type": "stream",
     "text": [
      "15462/15462 [==============================] - 4s 285us/sample - loss: 1.4829 - accuracy: 0.7418\n",
      "Epoch 76/100\n",
      "15462/15462 [==============================] - 4s 285us/sample - loss: 1.4685 - accuracy: 0.7442\n",
      "Epoch 77/100\n",
      "15462/15462 [==============================] - 4s 286us/sample - loss: 1.4314 - accuracy: 0.7552\n",
      "Epoch 78/100\n",
      "15462/15462 [==============================] - 4s 284us/sample - loss: 1.4199 - accuracy: 0.7549\n",
      "Epoch 79/100\n",
      "15462/15462 [==============================] - 4s 284us/sample - loss: 1.4022 - accuracy: 0.7601\n",
      "Epoch 80/100\n",
      "15462/15462 [==============================] - 4s 285us/sample - loss: 1.3918 - accuracy: 0.7597\n",
      "Epoch 81/100\n",
      "15462/15462 [==============================] - 4s 285us/sample - loss: 1.3796 - accuracy: 0.7599\n",
      "Epoch 82/100\n",
      "15462/15462 [==============================] - 4s 285us/sample - loss: 1.3600 - accuracy: 0.7619\n",
      "Epoch 83/100\n",
      "15462/15462 [==============================] - 4s 285us/sample - loss: 1.3327 - accuracy: 0.7676\n",
      "Epoch 84/100\n",
      "15462/15462 [==============================] - 4s 285us/sample - loss: 1.3244 - accuracy: 0.7736\n",
      "Epoch 85/100\n",
      "15462/15462 [==============================] - 4s 285us/sample - loss: 1.3008 - accuracy: 0.7762\n",
      "Epoch 86/100\n",
      "15462/15462 [==============================] - 4s 290us/sample - loss: 1.2774 - accuracy: 0.7840\n",
      "Epoch 87/100\n",
      "15462/15462 [==============================] - 5s 303us/sample - loss: 1.2842 - accuracy: 0.7789\n",
      "Epoch 88/100\n",
      "15462/15462 [==============================] - 5s 303us/sample - loss: 1.2642 - accuracy: 0.7837\n",
      "Epoch 89/100\n",
      "15462/15462 [==============================] - 5s 306us/sample - loss: 1.2536 - accuracy: 0.7817\n",
      "Epoch 90/100\n",
      "15462/15462 [==============================] - 5s 298us/sample - loss: 1.2494 - accuracy: 0.7832\n",
      "Epoch 91/100\n",
      "15462/15462 [==============================] - 5s 305us/sample - loss: 1.2393 - accuracy: 0.7839\n",
      "Epoch 92/100\n",
      "15462/15462 [==============================] - 5s 295us/sample - loss: 1.2250 - accuracy: 0.7875\n",
      "Epoch 93/100\n",
      "15462/15462 [==============================] - 5s 298us/sample - loss: 1.2023 - accuracy: 0.7921\n",
      "Epoch 94/100\n",
      "15462/15462 [==============================] - 5s 297us/sample - loss: 1.1807 - accuracy: 0.7958\n",
      "Epoch 95/100\n",
      "15462/15462 [==============================] - 5s 296us/sample - loss: 1.2072 - accuracy: 0.7888\n",
      "Epoch 96/100\n",
      "15462/15462 [==============================] - 5s 295us/sample - loss: 1.1786 - accuracy: 0.7967\n",
      "Epoch 97/100\n",
      "15462/15462 [==============================] - 5s 295us/sample - loss: 1.1570 - accuracy: 0.7998\n",
      "Epoch 98/100\n",
      "15462/15462 [==============================] - 5s 296us/sample - loss: 1.1440 - accuracy: 0.8035\n",
      "Epoch 99/100\n",
      "15462/15462 [==============================] - 5s 298us/sample - loss: 1.1327 - accuracy: 0.8040\n",
      "Epoch 100/100\n",
      "15462/15462 [==============================] - 5s 298us/sample - loss: 1.1343 - accuracy: 0.8014\n"
     ]
    }
   ],
   "source": [
    " history = model.fit(predictors, label, epochs=100, verbose=1)"
   ]
  },
  {
   "cell_type": "code",
   "execution_count": 10,
   "metadata": {
    "colab": {},
    "colab_type": "code",
    "id": "1fXTEO3GJ282"
   },
   "outputs": [
    {
     "data": {
      "image/png": "[encoded data removed]",
      "text/plain": [
       "<Figure size 432x288 with 1 Axes>"
      ]
     },
     "metadata": {
      "needs_background": "light"
     },
     "output_type": "display_data"
    },
    {
     "data": {
      "image/png": "[encoded data removed]",
      "text/plain": [
       "<Figure size 432x288 with 1 Axes>"
      ]
     },
     "metadata": {
      "needs_background": "light"
     },
     "output_type": "display_data"
    }
   ],
   "source": [
    "import matplotlib.pyplot as plt\n",
    "acc = history.history['accuracy']\n",
    "loss = history.history['loss']\n",
    "\n",
    "epochs = range(len(acc))\n",
    "\n",
    "plt.plot(epochs, acc, 'b', label='Training accuracy')\n",
    "plt.title('Training accuracy')\n",
    "\n",
    "plt.figure()\n",
    "\n",
    "plt.plot(epochs, loss, 'b', label='Training Loss')\n",
    "plt.title('Training loss')\n",
    "plt.legend()\n",
    "\n",
    "plt.show()"
   ]
  },
  {
   "cell_type": "code",
   "execution_count": 11,
   "metadata": {
    "colab": {},
    "colab_type": "code",
    "id": "6Vc6PHgxa6Hm"
   },
   "outputs": [
    {
     "name": "stdout",
     "output_type": "stream",
     "text": [
      "Help me Obi Wan Kenobi, you're my only hope thy sins are tell me they go long before confound room go a tomb new end weeds fitted quite dwells staineth staineth warm'd sounds torn days doth shouldst too souls hate new ill dead days new young days new must prove thee hold her pain thee behold her argument too praise alone go to recite dyed dyed torn days dearer than out good date fired light light light dyed dyed torn dyed arising drink doth be inherit false not not me thy thought to praise go to cross burn'd shown ground dyed taken decays hate ' who dearer speaking days\n"
     ]
    }
   ],
   "source": [
    "seed_text = \"Help me Obi Wan Kenobi, you're my only hope\"\n",
    "next_words = 100\n",
    "  \n",
    "for _ in range(next_words):\n",
    "\ttoken_list = tokenizer.texts_to_sequences([seed_text])[0]\n",
    "\ttoken_list = pad_sequences([token_list], maxlen=max_sequence_len-1, padding='pre')\n",
    "\tpredicted = model.predict_classes(token_list, verbose=0)\n",
    "\toutput_word = \"\"\n",
    "\tfor word, index in tokenizer.word_index.items():\n",
    "\t\tif index == predicted:\n",
    "\t\t\toutput_word = word\n",
    "\t\t\tbreak\n",
    "\tseed_text += \" \" + output_word\n",
    "print(seed_text)"
   ]
  }
 ],
 "metadata": {
  "accelerator": "GPU",
  "colab": {
   "name": "NLP_Week4_Exercise_Shakespeare_Answer.ipynb",
   "provenance": [],
   "toc_visible": true
  },
  "kernelspec": {
   "display_name": "Python 3",
   "language": "python",
   "name": "python3"
  },
  "language_info": {
   "codemirror_mode": {
    "name": "ipython",
    "version": 3
   },
   "file_extension": ".py",
   "mimetype": "text/x-python",
   "name": "python",
   "nbconvert_exporter": "python",
   "pygments_lexer": "ipython3",
   "version": "3.6.9"
  }
 },
 "nbformat": 4,
 "nbformat_minor": 1
}
