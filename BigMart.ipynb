{
 "cells": [
  {
   "cell_type": "markdown",
   "metadata": {},
   "source": [
    "### Step 0: Import Libraries and Data"
   ]
  },
  {
   "cell_type": "code",
   "execution_count": 57,
   "metadata": {
    "collapsed": true
   },
   "outputs": [],
   "source": [
    "import pandas as pd\n",
    "import numpy as np\n",
    "import matplotlib.pyplot as plt\n",
    "% matplotlib inline\n",
    "import seaborn as sns\n",
    "\n",
    "from sklearn.linear_model import LinearRegression, Lasso, Ridge\n",
    "from sklearn.model_selection import train_test_split\n",
    "from sklearn.preprocessing import StandardScaler\n",
    "from sklearn.pipeline import Pipeline\n",
    "from sklearn.metrics import r2_score, mean_squared_error\n",
    "from sklearn.model_selection import GridSearchCV\n",
    "from sklearn.ensemble import RandomForestRegressor "
   ]
  },
  {
   "cell_type": "markdown",
   "metadata": {},
   "source": [
    "### Step 1: Exploratory Data Analysis"
   ]
  },
  {
   "cell_type": "code",
   "execution_count": 4,
   "metadata": {
    "collapsed": true
   },
   "outputs": [],
   "source": [
    "df_train = pd.read_csv(\"train.csv\")\n",
    "df_test = pd.read_csv(\"test.csv\")"
   ]
  },
  {
   "cell_type": "code",
   "execution_count": 5,
   "metadata": {},
   "outputs": [
    {
     "data": {
      "text/html": [
       "<div>\n",
       "<style>\n",
       "    .dataframe thead tr:only-child th {\n",
       "        text-align: right;\n",
       "    }\n",
       "\n",
       "    .dataframe thead th {\n",
       "        text-align: left;\n",
       "    }\n",
       "\n",
       "    .dataframe tbody tr th {\n",
       "        vertical-align: top;\n",
       "    }\n",
       "</style>\n",
       "<table border=\"1\" class=\"dataframe\">\n",
       "  <thead>\n",
       "    <tr style=\"text-align: right;\">\n",
       "      <th></th>\n",
       "      <th>Item_Identifier</th>\n",
       "      <th>Item_Weight</th>\n",
       "      <th>Item_Fat_Content</th>\n",
       "      <th>Item_Visibility</th>\n",
       "      <th>Item_Type</th>\n",
       "      <th>Item_MRP</th>\n",
       "      <th>Outlet_Identifier</th>\n",
       "      <th>Outlet_Establishment_Year</th>\n",
       "      <th>Outlet_Size</th>\n",
       "      <th>Outlet_Location_Type</th>\n",
       "      <th>Outlet_Type</th>\n",
       "      <th>Item_Outlet_Sales</th>\n",
       "    </tr>\n",
       "  </thead>\n",
       "  <tbody>\n",
       "    <tr>\n",
       "      <th>0</th>\n",
       "      <td>FDA15</td>\n",
       "      <td>9.30</td>\n",
       "      <td>Low Fat</td>\n",
       "      <td>0.016047</td>\n",
       "      <td>Dairy</td>\n",
       "      <td>249.8092</td>\n",
       "      <td>OUT049</td>\n",
       "      <td>1999</td>\n",
       "      <td>Medium</td>\n",
       "      <td>Tier 1</td>\n",
       "      <td>Supermarket Type1</td>\n",
       "      <td>3735.1380</td>\n",
       "    </tr>\n",
       "    <tr>\n",
       "      <th>1</th>\n",
       "      <td>DRC01</td>\n",
       "      <td>5.92</td>\n",
       "      <td>Regular</td>\n",
       "      <td>0.019278</td>\n",
       "      <td>Soft Drinks</td>\n",
       "      <td>48.2692</td>\n",
       "      <td>OUT018</td>\n",
       "      <td>2009</td>\n",
       "      <td>Medium</td>\n",
       "      <td>Tier 3</td>\n",
       "      <td>Supermarket Type2</td>\n",
       "      <td>443.4228</td>\n",
       "    </tr>\n",
       "    <tr>\n",
       "      <th>2</th>\n",
       "      <td>FDN15</td>\n",
       "      <td>17.50</td>\n",
       "      <td>Low Fat</td>\n",
       "      <td>0.016760</td>\n",
       "      <td>Meat</td>\n",
       "      <td>141.6180</td>\n",
       "      <td>OUT049</td>\n",
       "      <td>1999</td>\n",
       "      <td>Medium</td>\n",
       "      <td>Tier 1</td>\n",
       "      <td>Supermarket Type1</td>\n",
       "      <td>2097.2700</td>\n",
       "    </tr>\n",
       "    <tr>\n",
       "      <th>3</th>\n",
       "      <td>FDX07</td>\n",
       "      <td>19.20</td>\n",
       "      <td>Regular</td>\n",
       "      <td>0.000000</td>\n",
       "      <td>Fruits and Vegetables</td>\n",
       "      <td>182.0950</td>\n",
       "      <td>OUT010</td>\n",
       "      <td>1998</td>\n",
       "      <td>NaN</td>\n",
       "      <td>Tier 3</td>\n",
       "      <td>Grocery Store</td>\n",
       "      <td>732.3800</td>\n",
       "    </tr>\n",
       "    <tr>\n",
       "      <th>4</th>\n",
       "      <td>NCD19</td>\n",
       "      <td>8.93</td>\n",
       "      <td>Low Fat</td>\n",
       "      <td>0.000000</td>\n",
       "      <td>Household</td>\n",
       "      <td>53.8614</td>\n",
       "      <td>OUT013</td>\n",
       "      <td>1987</td>\n",
       "      <td>High</td>\n",
       "      <td>Tier 3</td>\n",
       "      <td>Supermarket Type1</td>\n",
       "      <td>994.7052</td>\n",
       "    </tr>\n",
       "  </tbody>\n",
       "</table>\n",
       "</div>"
      ],
      "text/plain": [
       "  Item_Identifier  Item_Weight Item_Fat_Content  Item_Visibility  \\\n",
       "0           FDA15         9.30          Low Fat         0.016047   \n",
       "1           DRC01         5.92          Regular         0.019278   \n",
       "2           FDN15        17.50          Low Fat         0.016760   \n",
       "3           FDX07        19.20          Regular         0.000000   \n",
       "4           NCD19         8.93          Low Fat         0.000000   \n",
       "\n",
       "               Item_Type  Item_MRP Outlet_Identifier  \\\n",
       "0                  Dairy  249.8092            OUT049   \n",
       "1            Soft Drinks   48.2692            OUT018   \n",
       "2                   Meat  141.6180            OUT049   \n",
       "3  Fruits and Vegetables  182.0950            OUT010   \n",
       "4              Household   53.8614            OUT013   \n",
       "\n",
       "   Outlet_Establishment_Year Outlet_Size Outlet_Location_Type  \\\n",
       "0                       1999      Medium               Tier 1   \n",
       "1                       2009      Medium               Tier 3   \n",
       "2                       1999      Medium               Tier 1   \n",
       "3                       1998         NaN               Tier 3   \n",
       "4                       1987        High               Tier 3   \n",
       "\n",
       "         Outlet_Type  Item_Outlet_Sales  \n",
       "0  Supermarket Type1          3735.1380  \n",
       "1  Supermarket Type2           443.4228  \n",
       "2  Supermarket Type1          2097.2700  \n",
       "3      Grocery Store           732.3800  \n",
       "4  Supermarket Type1           994.7052  "
      ]
     },
     "execution_count": 5,
     "metadata": {},
     "output_type": "execute_result"
    }
   ],
   "source": [
    "df_train.head()"
   ]
  },
  {
   "cell_type": "code",
   "execution_count": 6,
   "metadata": {},
   "outputs": [
    {
     "data": {
      "text/html": [
       "<div>\n",
       "<style>\n",
       "    .dataframe thead tr:only-child th {\n",
       "        text-align: right;\n",
       "    }\n",
       "\n",
       "    .dataframe thead th {\n",
       "        text-align: left;\n",
       "    }\n",
       "\n",
       "    .dataframe tbody tr th {\n",
       "        vertical-align: top;\n",
       "    }\n",
       "</style>\n",
       "<table border=\"1\" class=\"dataframe\">\n",
       "  <thead>\n",
       "    <tr style=\"text-align: right;\">\n",
       "      <th></th>\n",
       "      <th>Item_Identifier</th>\n",
       "      <th>Item_Weight</th>\n",
       "      <th>Item_Fat_Content</th>\n",
       "      <th>Item_Visibility</th>\n",
       "      <th>Item_Type</th>\n",
       "      <th>Item_MRP</th>\n",
       "      <th>Outlet_Identifier</th>\n",
       "      <th>Outlet_Establishment_Year</th>\n",
       "      <th>Outlet_Size</th>\n",
       "      <th>Outlet_Location_Type</th>\n",
       "      <th>Outlet_Type</th>\n",
       "      <th>Item_Outlet_Sales</th>\n",
       "    </tr>\n",
       "  </thead>\n",
       "  <tbody>\n",
       "    <tr>\n",
       "      <th>8518</th>\n",
       "      <td>FDF22</td>\n",
       "      <td>6.865</td>\n",
       "      <td>Low Fat</td>\n",
       "      <td>0.056783</td>\n",
       "      <td>Snack Foods</td>\n",
       "      <td>214.5218</td>\n",
       "      <td>OUT013</td>\n",
       "      <td>1987</td>\n",
       "      <td>High</td>\n",
       "      <td>Tier 3</td>\n",
       "      <td>Supermarket Type1</td>\n",
       "      <td>2778.3834</td>\n",
       "    </tr>\n",
       "    <tr>\n",
       "      <th>8519</th>\n",
       "      <td>FDS36</td>\n",
       "      <td>8.380</td>\n",
       "      <td>Regular</td>\n",
       "      <td>0.046982</td>\n",
       "      <td>Baking Goods</td>\n",
       "      <td>108.1570</td>\n",
       "      <td>OUT045</td>\n",
       "      <td>2002</td>\n",
       "      <td>NaN</td>\n",
       "      <td>Tier 2</td>\n",
       "      <td>Supermarket Type1</td>\n",
       "      <td>549.2850</td>\n",
       "    </tr>\n",
       "    <tr>\n",
       "      <th>8520</th>\n",
       "      <td>NCJ29</td>\n",
       "      <td>10.600</td>\n",
       "      <td>Low Fat</td>\n",
       "      <td>0.035186</td>\n",
       "      <td>Health and Hygiene</td>\n",
       "      <td>85.1224</td>\n",
       "      <td>OUT035</td>\n",
       "      <td>2004</td>\n",
       "      <td>Small</td>\n",
       "      <td>Tier 2</td>\n",
       "      <td>Supermarket Type1</td>\n",
       "      <td>1193.1136</td>\n",
       "    </tr>\n",
       "    <tr>\n",
       "      <th>8521</th>\n",
       "      <td>FDN46</td>\n",
       "      <td>7.210</td>\n",
       "      <td>Regular</td>\n",
       "      <td>0.145221</td>\n",
       "      <td>Snack Foods</td>\n",
       "      <td>103.1332</td>\n",
       "      <td>OUT018</td>\n",
       "      <td>2009</td>\n",
       "      <td>Medium</td>\n",
       "      <td>Tier 3</td>\n",
       "      <td>Supermarket Type2</td>\n",
       "      <td>1845.5976</td>\n",
       "    </tr>\n",
       "    <tr>\n",
       "      <th>8522</th>\n",
       "      <td>DRG01</td>\n",
       "      <td>14.800</td>\n",
       "      <td>Low Fat</td>\n",
       "      <td>0.044878</td>\n",
       "      <td>Soft Drinks</td>\n",
       "      <td>75.4670</td>\n",
       "      <td>OUT046</td>\n",
       "      <td>1997</td>\n",
       "      <td>Small</td>\n",
       "      <td>Tier 1</td>\n",
       "      <td>Supermarket Type1</td>\n",
       "      <td>765.6700</td>\n",
       "    </tr>\n",
       "  </tbody>\n",
       "</table>\n",
       "</div>"
      ],
      "text/plain": [
       "     Item_Identifier  Item_Weight Item_Fat_Content  Item_Visibility  \\\n",
       "8518           FDF22        6.865          Low Fat         0.056783   \n",
       "8519           FDS36        8.380          Regular         0.046982   \n",
       "8520           NCJ29       10.600          Low Fat         0.035186   \n",
       "8521           FDN46        7.210          Regular         0.145221   \n",
       "8522           DRG01       14.800          Low Fat         0.044878   \n",
       "\n",
       "               Item_Type  Item_MRP Outlet_Identifier  \\\n",
       "8518         Snack Foods  214.5218            OUT013   \n",
       "8519        Baking Goods  108.1570            OUT045   \n",
       "8520  Health and Hygiene   85.1224            OUT035   \n",
       "8521         Snack Foods  103.1332            OUT018   \n",
       "8522         Soft Drinks   75.4670            OUT046   \n",
       "\n",
       "      Outlet_Establishment_Year Outlet_Size Outlet_Location_Type  \\\n",
       "8518                       1987        High               Tier 3   \n",
       "8519                       2002         NaN               Tier 2   \n",
       "8520                       2004       Small               Tier 2   \n",
       "8521                       2009      Medium               Tier 3   \n",
       "8522                       1997       Small               Tier 1   \n",
       "\n",
       "            Outlet_Type  Item_Outlet_Sales  \n",
       "8518  Supermarket Type1          2778.3834  \n",
       "8519  Supermarket Type1           549.2850  \n",
       "8520  Supermarket Type1          1193.1136  \n",
       "8521  Supermarket Type2          1845.5976  \n",
       "8522  Supermarket Type1           765.6700  "
      ]
     },
     "execution_count": 6,
     "metadata": {},
     "output_type": "execute_result"
    }
   ],
   "source": [
    "df_train.tail()"
   ]
  },
  {
   "cell_type": "code",
   "execution_count": 7,
   "metadata": {},
   "outputs": [
    {
     "data": {
      "text/html": [
       "<div>\n",
       "<style>\n",
       "    .dataframe thead tr:only-child th {\n",
       "        text-align: right;\n",
       "    }\n",
       "\n",
       "    .dataframe thead th {\n",
       "        text-align: left;\n",
       "    }\n",
       "\n",
       "    .dataframe tbody tr th {\n",
       "        vertical-align: top;\n",
       "    }\n",
       "</style>\n",
       "<table border=\"1\" class=\"dataframe\">\n",
       "  <thead>\n",
       "    <tr style=\"text-align: right;\">\n",
       "      <th></th>\n",
       "      <th>Item_Weight</th>\n",
       "      <th>Item_Visibility</th>\n",
       "      <th>Item_MRP</th>\n",
       "      <th>Outlet_Establishment_Year</th>\n",
       "      <th>Item_Outlet_Sales</th>\n",
       "    </tr>\n",
       "  </thead>\n",
       "  <tbody>\n",
       "    <tr>\n",
       "      <th>count</th>\n",
       "      <td>7060.000000</td>\n",
       "      <td>8523.000000</td>\n",
       "      <td>8523.000000</td>\n",
       "      <td>8523.000000</td>\n",
       "      <td>8523.000000</td>\n",
       "    </tr>\n",
       "    <tr>\n",
       "      <th>mean</th>\n",
       "      <td>12.857645</td>\n",
       "      <td>0.066132</td>\n",
       "      <td>140.992782</td>\n",
       "      <td>1997.831867</td>\n",
       "      <td>2181.288914</td>\n",
       "    </tr>\n",
       "    <tr>\n",
       "      <th>std</th>\n",
       "      <td>4.643456</td>\n",
       "      <td>0.051598</td>\n",
       "      <td>62.275067</td>\n",
       "      <td>8.371760</td>\n",
       "      <td>1706.499616</td>\n",
       "    </tr>\n",
       "    <tr>\n",
       "      <th>min</th>\n",
       "      <td>4.555000</td>\n",
       "      <td>0.000000</td>\n",
       "      <td>31.290000</td>\n",
       "      <td>1985.000000</td>\n",
       "      <td>33.290000</td>\n",
       "    </tr>\n",
       "    <tr>\n",
       "      <th>25%</th>\n",
       "      <td>8.773750</td>\n",
       "      <td>0.026989</td>\n",
       "      <td>93.826500</td>\n",
       "      <td>1987.000000</td>\n",
       "      <td>834.247400</td>\n",
       "    </tr>\n",
       "    <tr>\n",
       "      <th>50%</th>\n",
       "      <td>12.600000</td>\n",
       "      <td>0.053931</td>\n",
       "      <td>143.012800</td>\n",
       "      <td>1999.000000</td>\n",
       "      <td>1794.331000</td>\n",
       "    </tr>\n",
       "    <tr>\n",
       "      <th>75%</th>\n",
       "      <td>16.850000</td>\n",
       "      <td>0.094585</td>\n",
       "      <td>185.643700</td>\n",
       "      <td>2004.000000</td>\n",
       "      <td>3101.296400</td>\n",
       "    </tr>\n",
       "    <tr>\n",
       "      <th>max</th>\n",
       "      <td>21.350000</td>\n",
       "      <td>0.328391</td>\n",
       "      <td>266.888400</td>\n",
       "      <td>2009.000000</td>\n",
       "      <td>13086.964800</td>\n",
       "    </tr>\n",
       "  </tbody>\n",
       "</table>\n",
       "</div>"
      ],
      "text/plain": [
       "       Item_Weight  Item_Visibility     Item_MRP  Outlet_Establishment_Year  \\\n",
       "count  7060.000000      8523.000000  8523.000000                8523.000000   \n",
       "mean     12.857645         0.066132   140.992782                1997.831867   \n",
       "std       4.643456         0.051598    62.275067                   8.371760   \n",
       "min       4.555000         0.000000    31.290000                1985.000000   \n",
       "25%       8.773750         0.026989    93.826500                1987.000000   \n",
       "50%      12.600000         0.053931   143.012800                1999.000000   \n",
       "75%      16.850000         0.094585   185.643700                2004.000000   \n",
       "max      21.350000         0.328391   266.888400                2009.000000   \n",
       "\n",
       "       Item_Outlet_Sales  \n",
       "count        8523.000000  \n",
       "mean         2181.288914  \n",
       "std          1706.499616  \n",
       "min            33.290000  \n",
       "25%           834.247400  \n",
       "50%          1794.331000  \n",
       "75%          3101.296400  \n",
       "max         13086.964800  "
      ]
     },
     "execution_count": 7,
     "metadata": {},
     "output_type": "execute_result"
    }
   ],
   "source": [
    "df_train.describe()"
   ]
  },
  {
   "cell_type": "code",
   "execution_count": 8,
   "metadata": {},
   "outputs": [
    {
     "name": "stdout",
     "output_type": "stream",
     "text": [
      "<class 'pandas.core.frame.DataFrame'>\n",
      "RangeIndex: 8523 entries, 0 to 8522\n",
      "Data columns (total 12 columns):\n",
      "Item_Identifier              8523 non-null object\n",
      "Item_Weight                  7060 non-null float64\n",
      "Item_Fat_Content             8523 non-null object\n",
      "Item_Visibility              8523 non-null float64\n",
      "Item_Type                    8523 non-null object\n",
      "Item_MRP                     8523 non-null float64\n",
      "Outlet_Identifier            8523 non-null object\n",
      "Outlet_Establishment_Year    8523 non-null int64\n",
      "Outlet_Size                  6113 non-null object\n",
      "Outlet_Location_Type         8523 non-null object\n",
      "Outlet_Type                  8523 non-null object\n",
      "Item_Outlet_Sales            8523 non-null float64\n",
      "dtypes: float64(4), int64(1), object(7)\n",
      "memory usage: 799.1+ KB\n"
     ]
    }
   ],
   "source": [
    "df_train.info()"
   ]
  },
  {
   "cell_type": "code",
   "execution_count": 9,
   "metadata": {},
   "outputs": [
    {
     "data": {
      "text/plain": [
       "<matplotlib.axes._subplots.AxesSubplot at 0x2b9c5fdfb38>"
      ]
     },
     "execution_count": 9,
     "metadata": {},
     "output_type": "execute_result"
    },
    {
     "data": {
      "image/png": "[encoded data removed]",
      "text/plain": [
       "<matplotlib.figure.Figure at 0x2b9c5fdf518>"
      ]
     },
     "metadata": {},
     "output_type": "display_data"
    }
   ],
   "source": [
    "sns.heatmap(df_train.corr(), annot=True)"
   ]
  },
  {
   "cell_type": "code",
   "execution_count": 10,
   "metadata": {},
   "outputs": [
    {
     "data": {
      "text/plain": [
       "<matplotlib.axes._subplots.AxesSubplot at 0x2b9c6485470>"
      ]
     },
     "execution_count": 10,
     "metadata": {},
     "output_type": "execute_result"
    },
    {
     "data": {
      "image/png": "[encoded data removed]",
      "text/plain": [
       "<matplotlib.figure.Figure at 0x2b9c5ef4f60>"
      ]
     },
     "metadata": {},
     "output_type": "display_data"
    }
   ],
   "source": [
    "sns.countplot(df_train.Item_Identifier)"
   ]
  },
  {
   "cell_type": "code",
   "execution_count": 11,
   "metadata": {},
   "outputs": [
    {
     "data": {
      "text/plain": [
       "1559"
      ]
     },
     "execution_count": 11,
     "metadata": {},
     "output_type": "execute_result"
    }
   ],
   "source": [
    "# See the number of different item identifiers\n",
    "len(set(df_train.Item_Identifier))"
   ]
  },
  {
   "cell_type": "code",
   "execution_count": 12,
   "metadata": {},
   "outputs": [
    {
     "data": {
      "text/plain": [
       "<matplotlib.axes._subplots.AxesSubplot at 0x2b9c6485b38>"
      ]
     },
     "execution_count": 12,
     "metadata": {},
     "output_type": "execute_result"
    },
    {
     "data": {
      "image/png": "[encoded data removed]",
      "text/plain": [
       "<matplotlib.figure.Figure at 0x2b9cc9f76a0>"
      ]
     },
     "metadata": {},
     "output_type": "display_data"
    }
   ],
   "source": [
    "sns.countplot(df_train.Item_Weight)"
   ]
  },
  {
   "cell_type": "code",
   "execution_count": 13,
   "metadata": {},
   "outputs": [
    {
     "data": {
      "text/plain": [
       "<matplotlib.axes._subplots.AxesSubplot at 0x2b9c95d75c0>"
      ]
     },
     "execution_count": 13,
     "metadata": {},
     "output_type": "execute_result"
    },
    {
     "data": {
      "image/png": "[encoded data removed]",
      "text/plain": [
       "<matplotlib.figure.Figure at 0x2b9c6592ef0>"
      ]
     },
     "metadata": {},
     "output_type": "display_data"
    }
   ],
   "source": [
    "sns.countplot(df_train.Item_Fat_Content)"
   ]
  },
  {
   "cell_type": "code",
   "execution_count": 14,
   "metadata": {},
   "outputs": [
    {
     "data": {
      "text/plain": [
       "(array([ 0,  1,  2,  3,  4,  5,  6,  7,  8,  9, 10, 11, 12, 13, 14, 15]),\n",
       " <a list of 16 Text xticklabel objects>)"
      ]
     },
     "execution_count": 14,
     "metadata": {},
     "output_type": "execute_result"
    },
    {
     "data": {
      "image/png": "[encoded data removed]",
      "text/plain": [
       "<matplotlib.figure.Figure at 0x2b9cca30d68>"
      ]
     },
     "metadata": {},
     "output_type": "display_data"
    }
   ],
   "source": [
    "sns.countplot(df_train.Item_Type)\n",
    "plt.xticks(rotation=90)"
   ]
  },
  {
   "cell_type": "code",
   "execution_count": 15,
   "metadata": {},
   "outputs": [
    {
     "data": {
      "text/plain": [
       "<matplotlib.axes._subplots.AxesSubplot at 0x2b9ca938f28>"
      ]
     },
     "execution_count": 15,
     "metadata": {},
     "output_type": "execute_result"
    },
    {
     "data": {
      "image/png": "[encoded data removed]",
      "text/plain": [
       "<matplotlib.figure.Figure at 0x2b9cc9f7908>"
      ]
     },
     "metadata": {},
     "output_type": "display_data"
    }
   ],
   "source": [
    "sns.countplot(df_train.Outlet_Identifier)"
   ]
  },
  {
   "cell_type": "code",
   "execution_count": 16,
   "metadata": {},
   "outputs": [
    {
     "data": {
      "text/plain": [
       "<matplotlib.axes._subplots.AxesSubplot at 0x2b9cadd9fd0>"
      ]
     },
     "execution_count": 16,
     "metadata": {},
     "output_type": "execute_result"
    },
    {
     "data": {
      "image/png": "[encoded data removed]",
      "text/plain": [
       "<matplotlib.figure.Figure at 0x2b9cac980f0>"
      ]
     },
     "metadata": {},
     "output_type": "display_data"
    }
   ],
   "source": [
    "sns.countplot(df_train.Outlet_Establishment_Year)"
   ]
  },
  {
   "cell_type": "code",
   "execution_count": 17,
   "metadata": {},
   "outputs": [
    {
     "data": {
      "text/plain": [
       "<matplotlib.axes._subplots.AxesSubplot at 0x2b9cb0f6b38>"
      ]
     },
     "execution_count": 17,
     "metadata": {},
     "output_type": "execute_result"
    },
    {
     "data": {
      "image/png": "[encoded data removed]",
      "text/plain": [
       "<matplotlib.figure.Figure at 0x2b9cc724668>"
      ]
     },
     "metadata": {},
     "output_type": "display_data"
    }
   ],
   "source": [
    "sns.countplot(df_train.Outlet_Size)"
   ]
  },
  {
   "cell_type": "code",
   "execution_count": 18,
   "metadata": {},
   "outputs": [
    {
     "data": {
      "text/plain": [
       "<matplotlib.axes._subplots.AxesSubplot at 0x2b9ceb0f1d0>"
      ]
     },
     "execution_count": 18,
     "metadata": {},
     "output_type": "execute_result"
    },
    {
     "data": {
      "image/png": "[encoded data removed]",
      "text/plain": [
       "<matplotlib.figure.Figure at 0x2b9ca8f77b8>"
      ]
     },
     "metadata": {},
     "output_type": "display_data"
    }
   ],
   "source": [
    "sns.countplot(df_train.Outlet_Location_Type)"
   ]
  },
  {
   "cell_type": "code",
   "execution_count": 19,
   "metadata": {},
   "outputs": [
    {
     "data": {
      "text/plain": [
       "<matplotlib.axes._subplots.AxesSubplot at 0x2b9ceb6b898>"
      ]
     },
     "execution_count": 19,
     "metadata": {},
     "output_type": "execute_result"
    },
    {
     "data": {
      "image/png": "[encoded data removed]",
      "text/plain": [
       "<matplotlib.figure.Figure at 0x2b9caf34eb8>"
      ]
     },
     "metadata": {},
     "output_type": "display_data"
    }
   ],
   "source": [
    "sns.countplot(df_train.Outlet_Type)"
   ]
  },
  {
   "cell_type": "markdown",
   "metadata": {},
   "source": [
    "We want to see how the categorical data correlate with Item_Outlet_Sales. We can use pivot tables, with the median outlet sales (median instead of mean to reduce impact of outliers) for each category.\n"
   ]
  },
  {
   "cell_type": "code",
   "execution_count": 20,
   "metadata": {},
   "outputs": [
    {
     "data": {
      "image/png": "[encoded data removed]",
      "text/plain": [
       "<matplotlib.figure.Figure at 0x2b9cec15e10>"
      ]
     },
     "metadata": {},
     "output_type": "display_data"
    }
   ],
   "source": [
    "Item_Fat_Content_PivotTable = df_train.pivot_table(index='Item_Fat_Content', values=\"Item_Outlet_Sales\", aggfunc=np.median)\n",
    "Item_Fat_Content_PivotTable.plot(kind='bar')\n",
    "plt.xlabel(\"Item_Fat_Content\")\n",
    "plt.ylabel(\"Item_Outlet_Sales\")\n",
    "plt.show()"
   ]
  },
  {
   "cell_type": "code",
   "execution_count": 21,
   "metadata": {},
   "outputs": [
    {
     "data": {
      "image/png": "[encoded data removed]",
      "text/plain": [
       "<matplotlib.figure.Figure at 0x2b9cecd0898>"
      ]
     },
     "metadata": {},
     "output_type": "display_data"
    }
   ],
   "source": [
    "Item_Type_PivotTable = df_train.pivot_table(index='Item_Type', values=\"Item_Outlet_Sales\", aggfunc=np.median)\n",
    "Item_Type_PivotTable.plot(kind='bar')\n",
    "plt.xlabel(\"Item_Type\")\n",
    "plt.ylabel(\"Item_Outlet_Sales\")\n",
    "plt.show()"
   ]
  },
  {
   "cell_type": "code",
   "execution_count": 22,
   "metadata": {},
   "outputs": [
    {
     "data": {
      "image/png": "[encoded data removed]",
      "text/plain": [
       "<matplotlib.figure.Figure at 0x2b9cee44940>"
      ]
     },
     "metadata": {},
     "output_type": "display_data"
    }
   ],
   "source": [
    "Outlet_Identifier_PivotTable = df_train.pivot_table(index='Outlet_Identifier', values=\"Item_Outlet_Sales\", aggfunc=np.median)\n",
    "Outlet_Identifier_PivotTable.plot(kind='bar')\n",
    "plt.xlabel(\"Outlet_Identifier\")\n",
    "plt.ylabel(\"Item_Outlet_Sales\")\n",
    "plt.show()"
   ]
  },
  {
   "cell_type": "code",
   "execution_count": 23,
   "metadata": {},
   "outputs": [
    {
     "data": {
      "image/png": "[encoded data removed]",
      "text/plain": [
       "<matplotlib.figure.Figure at 0x2b9ceb64828>"
      ]
     },
     "metadata": {},
     "output_type": "display_data"
    }
   ],
   "source": [
    "Outlet_Size_PivotTable = df_train.pivot_table(index='Outlet_Size', values=\"Item_Outlet_Sales\", aggfunc=np.median)\n",
    "Outlet_Size_PivotTable.plot(kind='bar')\n",
    "plt.xlabel(\"Outlet_Size\")\n",
    "plt.ylabel(\"Item_Outlet_Sales\")\n",
    "plt.show()"
   ]
  },
  {
   "cell_type": "code",
   "execution_count": 24,
   "metadata": {},
   "outputs": [
    {
     "data": {
      "image/png": "[encoded data removed]",
      "text/plain": [
       "<matplotlib.figure.Figure at 0x2b9ceea4b00>"
      ]
     },
     "metadata": {},
     "output_type": "display_data"
    }
   ],
   "source": [
    "Outlet_Location_Type_PivotTable = df_train.pivot_table(index='Outlet_Location_Type', values=\"Item_Outlet_Sales\", aggfunc=np.median)\n",
    "Outlet_Location_Type_PivotTable.plot(kind='bar')\n",
    "plt.xlabel(\"Outlet_Location_Type\")\n",
    "plt.ylabel(\"Item_Outlet_Sales\")\n",
    "plt.show()"
   ]
  },
  {
   "cell_type": "code",
   "execution_count": 25,
   "metadata": {},
   "outputs": [
    {
     "data": {
      "image/png": "[encoded data removed]",
      "text/plain": [
       "<matplotlib.figure.Figure at 0x2b9cee21a20>"
      ]
     },
     "metadata": {},
     "output_type": "display_data"
    }
   ],
   "source": [
    "Outlet_Type_PivotTable = df_train.pivot_table(index='Outlet_Type', values=\"Item_Outlet_Sales\", aggfunc=np.median)\n",
    "Outlet_Type_PivotTable.plot(kind='bar')\n",
    "plt.xlabel(\"Outlet_Type\")\n",
    "plt.ylabel(\"Item_Outlet_Sales\")\n",
    "plt.show()"
   ]
  },
  {
   "cell_type": "code",
   "execution_count": 26,
   "metadata": {},
   "outputs": [
    {
     "data": {
      "image/png": "[encoded data removed]",
      "text/plain": [
       "<matplotlib.figure.Figure at 0x2b9ceea0fd0>"
      ]
     },
     "metadata": {},
     "output_type": "display_data"
    }
   ],
   "source": [
    "ItemMRP_ItemType_PivotTable = df_train.pivot_table(index='Item_Type', values=\"Item_MRP\", aggfunc=np.median)\n",
    "ItemMRP_ItemType_PivotTable.plot(kind='bar')\n",
    "plt.xlabel(\"Item_Type\")\n",
    "plt.ylabel(\"Item_MRP\")\n",
    "plt.show()"
   ]
  },
  {
   "cell_type": "markdown",
   "metadata": {},
   "source": [
    "#### Initial Thoughts\n",
    "\n",
    "- Item_Identifier - Just the unique identifier of each item. We can drop this column as it will not affect Item_Outlet_Sales. In the training data, there are 1,559 different types of items out of 8,523 entries.\n",
    "\n",
    "\n",
    "- Item_Weight - From the heatmap, there is very little positive correlation (+0.014) between Item_Weight and Item_Outlet_Sales. The countplot shows that the data consists of more heavier items than light items. Also, there are 1,463 missing values out of 8,523, which is significant, and we need to find a way to impute the missing values.\n",
    "\n",
    "\n",
    "- Item_Fat_Content - From the barplot, there are 5 bars, but they are duplicated. For example, there is \"Regular\" and \"reg\". Also, there is \"LF\", \"Low Fat\", and \"low fat\". Also, for the Item_Type category, it appears that there are non-food items like household products, which should not be in either the \"Regular\" or \"Low Fat\" family. We should create another category of \"Non-Edible\" for such non-food items.\n",
    "\n",
    "\n",
    "- Item_Visibility - This metric is a measure of how visible the item is to customers. One would think that the more visible the item to customers, the higher the sales, but the heatmap appears to show a slight negative correlation of -0.13. Perhaps customers prefer to stick to their preferred brand of food, rather than an unfamiliar type that is displayed prominently.\n",
    "\n",
    "\n",
    "- Item_Type - Some item types like seafood have higher outlet sales compared to item types like soft drinks. This makes sense as seafood is generally more expensive. Therefore this is quite an important feature.\n",
    "\n",
    "\n",
    "- Item_MRP - The heatmap shows a significant positive correlation of +0.57 between manufacturer resale price and the sales. From the barplot of median Item_MRP vs Item_Type, the median price of starchy foods is the highest while the median price of baking goods is the lowest. The minimum MRP is 31 while the maximum is 266, which leads me to believe that it is in a non-USD currency.\n",
    "\n",
    "\n",
    "- Outlet_Identifier - Some outlets like OUT010 and OUT019 have  much lower outlet sales compared to OUT027. This is likely liked to Outlet_Size, Outlet_Location_Type, Outlet_Type, but I don't think we can drop this feature. For example, a particular outlet could have very good customer service, or little competition in the neighbourhood, which are not considered in the abovementioned features.\n",
    "\n",
    "\n",
    "- Outlet_Establishment_Year - The heatmap shows a very slight negative correlation between the year of establishment and outlet sales, but I believe we should do some feature engineering to see how long the outlet has been around instead of the year in thousands'.\n",
    "\n",
    "\n",
    "- Outlet_Size - From the barplot, smaller outlets have less outlet sales, which is not surprising. It has 2,410 missing values out of 8,523, which is significant. This seems to be related to Outlet_Type e.g. grocery store, and we can use info from Outlet_Type to impute missing Outlet_Size values.\n",
    "\n",
    "\n",
    "- Outlet_Location_Type - From the barplot, Tier 1 outlets have less sales compared to Tier 2 and 3.\n",
    "\n",
    "\n",
    "- Outlet_Type - There's quite a clear difference, grocery stores have least sales while Type 3 is the clear leader.\n",
    "\n",
    "\n",
    "- Item_Outlet_Sales - The label we are trying to predict."
   ]
  },
  {
   "cell_type": "markdown",
   "metadata": {},
   "source": [
    "### Step 2: Pre-Processing the Data\n",
    "\n",
    "Join the train and test sets first to do pre-processing at one go, and separate them later."
   ]
  },
  {
   "cell_type": "code",
   "execution_count": 27,
   "metadata": {},
   "outputs": [
    {
     "name": "stdout",
     "output_type": "stream",
     "text": [
      "(14204, 13) (8523, 13) (5681, 12)\n"
     ]
    }
   ],
   "source": [
    "# Create a \"Source\" column\n",
    "# To be able to distinguish train and test datasets later\n",
    "df_train['Source'] = 'train'\n",
    "df_test['Source'] = 'test'\n",
    "\n",
    "# Combine train and test data\n",
    "df = pd.concat([df_train, df_test], ignore_index = True)\n",
    "print(df.shape, df_train.shape, df_test.shape)"
   ]
  },
  {
   "cell_type": "code",
   "execution_count": 28,
   "metadata": {},
   "outputs": [
    {
     "name": "stdout",
     "output_type": "stream",
     "text": [
      "<class 'pandas.core.frame.DataFrame'>\n",
      "RangeIndex: 14204 entries, 0 to 14203\n",
      "Data columns (total 13 columns):\n",
      "Item_Fat_Content             14204 non-null object\n",
      "Item_Identifier              14204 non-null object\n",
      "Item_MRP                     14204 non-null float64\n",
      "Item_Outlet_Sales            8523 non-null float64\n",
      "Item_Type                    14204 non-null object\n",
      "Item_Visibility              14204 non-null float64\n",
      "Item_Weight                  11765 non-null float64\n",
      "Outlet_Establishment_Year    14204 non-null int64\n",
      "Outlet_Identifier            14204 non-null object\n",
      "Outlet_Location_Type         14204 non-null object\n",
      "Outlet_Size                  10188 non-null object\n",
      "Outlet_Type                  14204 non-null object\n",
      "Source                       14204 non-null object\n",
      "dtypes: float64(4), int64(1), object(8)\n",
      "memory usage: 1.4+ MB\n"
     ]
    }
   ],
   "source": [
    "df.info()"
   ]
  },
  {
   "cell_type": "markdown",
   "metadata": {},
   "source": [
    "First, let's tackle the missing Item_Weight values. We can do so by finding the mean weight of each Item_Identifier using a pivot table, which should be pretty accurate. Then, impute the missing Item_Weight values with the calculated mean weights."
   ]
  },
  {
   "cell_type": "code",
   "execution_count": 29,
   "metadata": {
    "collapsed": true
   },
   "outputs": [],
   "source": [
    "# Create a pivot table with mean weight for each item identifier\n",
    "# NaN weight values will be ignored by pivot table function\n",
    "\n",
    "Mean_Item_Weight = df.pivot_table(index='Item_Identifier', values='Item_Weight')"
   ]
  },
  {
   "cell_type": "code",
   "execution_count": 30,
   "metadata": {},
   "outputs": [
    {
     "name": "stdout",
     "output_type": "stream",
     "text": [
      "<class 'pandas.core.frame.DataFrame'>\n",
      "RangeIndex: 14204 entries, 0 to 14203\n",
      "Data columns (total 13 columns):\n",
      "Item_Fat_Content             14204 non-null object\n",
      "Item_Identifier              14204 non-null object\n",
      "Item_MRP                     14204 non-null float64\n",
      "Item_Outlet_Sales            8523 non-null float64\n",
      "Item_Type                    14204 non-null object\n",
      "Item_Visibility              14204 non-null float64\n",
      "Item_Weight                  14204 non-null float64\n",
      "Outlet_Establishment_Year    14204 non-null int64\n",
      "Outlet_Identifier            14204 non-null object\n",
      "Outlet_Location_Type         14204 non-null object\n",
      "Outlet_Size                  10188 non-null object\n",
      "Outlet_Type                  14204 non-null object\n",
      "Source                       14204 non-null object\n",
      "dtypes: float64(4), int64(1), object(8)\n",
      "memory usage: 1.4+ MB\n"
     ]
    }
   ],
   "source": [
    "def impute_weight(cols):\n",
    "\n",
    "    Identifier = cols[0]\n",
    "    Weight = cols[1]\n",
    "    \n",
    "    if pd.isnull(Weight):\n",
    "        return Mean_Item_Weight['Item_Weight'][Mean_Item_Weight.index == Identifier]\n",
    "    else:\n",
    "        return Weight\n",
    "    \n",
    "df['Item_Weight'] = df[['Item_Identifier','Item_Weight']].apply(impute_weight,axis=1).astype(float)\n",
    "\n",
    "df.info()"
   ]
  },
  {
   "cell_type": "markdown",
   "metadata": {},
   "source": [
    "Next, let's tackle the missing Outlet_Size values. We create a pivot table of Outlet_Type vs Outlet_Size, where the most common occurrence (mode) of types for each Outlet_Size are used. Then, we impute the missing Outlet_Size values in the dataframe with this info."
   ]
  },
  {
   "cell_type": "code",
   "execution_count": 31,
   "metadata": {},
   "outputs": [
    {
     "data": {
      "text/html": [
       "<div>\n",
       "<style>\n",
       "    .dataframe thead tr:only-child th {\n",
       "        text-align: right;\n",
       "    }\n",
       "\n",
       "    .dataframe thead th {\n",
       "        text-align: left;\n",
       "    }\n",
       "\n",
       "    .dataframe tbody tr th {\n",
       "        vertical-align: top;\n",
       "    }\n",
       "</style>\n",
       "<table border=\"1\" class=\"dataframe\">\n",
       "  <thead>\n",
       "    <tr style=\"text-align: right;\">\n",
       "      <th>Outlet_Type</th>\n",
       "      <th>Grocery Store</th>\n",
       "      <th>Supermarket Type1</th>\n",
       "      <th>Supermarket Type2</th>\n",
       "      <th>Supermarket Type3</th>\n",
       "    </tr>\n",
       "  </thead>\n",
       "  <tbody>\n",
       "    <tr>\n",
       "      <th>Outlet_Size</th>\n",
       "      <td>Small</td>\n",
       "      <td>Small</td>\n",
       "      <td>Medium</td>\n",
       "      <td>Medium</td>\n",
       "    </tr>\n",
       "  </tbody>\n",
       "</table>\n",
       "</div>"
      ],
      "text/plain": [
       "Outlet_Type Grocery Store Supermarket Type1 Supermarket Type2  \\\n",
       "Outlet_Size         Small             Small            Medium   \n",
       "\n",
       "Outlet_Type Supermarket Type3  \n",
       "Outlet_Size            Medium  "
      ]
     },
     "execution_count": 31,
     "metadata": {},
     "output_type": "execute_result"
    }
   ],
   "source": [
    "Mode_Outlet_Size = df.pivot_table(columns='Outlet_Type', values='Outlet_Size', aggfunc=lambda x:x.mode())\n",
    "Mode_Outlet_Size"
   ]
  },
  {
   "cell_type": "code",
   "execution_count": 32,
   "metadata": {},
   "outputs": [
    {
     "name": "stdout",
     "output_type": "stream",
     "text": [
      "<class 'pandas.core.frame.DataFrame'>\n",
      "RangeIndex: 14204 entries, 0 to 14203\n",
      "Data columns (total 13 columns):\n",
      "Item_Fat_Content             14204 non-null object\n",
      "Item_Identifier              14204 non-null object\n",
      "Item_MRP                     14204 non-null float64\n",
      "Item_Outlet_Sales            8523 non-null float64\n",
      "Item_Type                    14204 non-null object\n",
      "Item_Visibility              14204 non-null float64\n",
      "Item_Weight                  14204 non-null float64\n",
      "Outlet_Establishment_Year    14204 non-null int64\n",
      "Outlet_Identifier            14204 non-null object\n",
      "Outlet_Location_Type         14204 non-null object\n",
      "Outlet_Size                  14204 non-null object\n",
      "Outlet_Type                  14204 non-null object\n",
      "Source                       14204 non-null object\n",
      "dtypes: float64(4), int64(1), object(8)\n",
      "memory usage: 1.4+ MB\n"
     ]
    }
   ],
   "source": [
    "def impute_outlet_size(cols):\n",
    "    Size = cols[0]\n",
    "    Type = cols[1]\n",
    "    if pd.isnull(Size):\n",
    "        return Mode_Outlet_Size.loc['Outlet_Size'][Mode_Outlet_Size.columns == Type][0]\n",
    "    else:\n",
    "        return Size\n",
    "\n",
    "df['Outlet_Size'] = df[['Outlet_Size','Outlet_Type']].apply(impute_outlet_size,axis=1)\n",
    "\n",
    "df.info()"
   ]
  },
  {
   "cell_type": "markdown",
   "metadata": {},
   "source": [
    "We can ignore the missing Item_Outlet_sales values, as they are from the test dataset, which is not required for training the model. We saw earlier that the training dataset has no missing values for Item_Outlet_Sales."
   ]
  },
  {
   "cell_type": "markdown",
   "metadata": {},
   "source": [
    "### Step 3: Feature Engineering"
   ]
  },
  {
   "cell_type": "markdown",
   "metadata": {},
   "source": [
    "I believe that the age of the outlet is a better feature than the year of establishment of the outlet, and hence, we will create a column called \"Outlet Age\" below."
   ]
  },
  {
   "cell_type": "code",
   "execution_count": 33,
   "metadata": {
    "collapsed": true
   },
   "outputs": [],
   "source": [
    "# Data is from the year 2013\n",
    "df['Outlet_Age'] = 2013 - df['Outlet_Establishment_Year']"
   ]
  },
  {
   "cell_type": "markdown",
   "metadata": {},
   "source": [
    "Remove duplicate labels for Item_Fat_Content. Combine \"Regular\" and \"reg\" into \"Regular\", and \"LF\", \"Low Fat\", and \"low fat\" into \"Low Fat\"."
   ]
  },
  {
   "cell_type": "code",
   "execution_count": 34,
   "metadata": {
    "collapsed": true
   },
   "outputs": [],
   "source": [
    "df['Item_Fat_Content'] = df['Item_Fat_Content'].replace({'LF':'Low Fat','reg':'Regular','low fat':'Low Fat'})"
   ]
  },
  {
   "cell_type": "code",
   "execution_count": 35,
   "metadata": {},
   "outputs": [
    {
     "data": {
      "text/html": [
       "<div>\n",
       "<style>\n",
       "    .dataframe thead tr:only-child th {\n",
       "        text-align: right;\n",
       "    }\n",
       "\n",
       "    .dataframe thead th {\n",
       "        text-align: left;\n",
       "    }\n",
       "\n",
       "    .dataframe tbody tr th {\n",
       "        vertical-align: top;\n",
       "    }\n",
       "</style>\n",
       "<table border=\"1\" class=\"dataframe\">\n",
       "  <thead>\n",
       "    <tr style=\"text-align: right;\">\n",
       "      <th></th>\n",
       "      <th>Item_Fat_Content</th>\n",
       "      <th>Item_Identifier</th>\n",
       "      <th>Item_MRP</th>\n",
       "      <th>Item_Outlet_Sales</th>\n",
       "      <th>Item_Type</th>\n",
       "      <th>Item_Visibility</th>\n",
       "      <th>Item_Weight</th>\n",
       "      <th>Outlet_Establishment_Year</th>\n",
       "      <th>Outlet_Identifier</th>\n",
       "      <th>Outlet_Location_Type</th>\n",
       "      <th>Outlet_Size</th>\n",
       "      <th>Outlet_Type</th>\n",
       "      <th>Source</th>\n",
       "      <th>Outlet_Age</th>\n",
       "    </tr>\n",
       "  </thead>\n",
       "  <tbody>\n",
       "    <tr>\n",
       "      <th>0</th>\n",
       "      <td>Low Fat</td>\n",
       "      <td>FDA15</td>\n",
       "      <td>249.8092</td>\n",
       "      <td>3735.1380</td>\n",
       "      <td>Dairy</td>\n",
       "      <td>0.016047</td>\n",
       "      <td>9.30</td>\n",
       "      <td>1999</td>\n",
       "      <td>OUT049</td>\n",
       "      <td>Tier 1</td>\n",
       "      <td>Medium</td>\n",
       "      <td>Supermarket Type1</td>\n",
       "      <td>train</td>\n",
       "      <td>14</td>\n",
       "    </tr>\n",
       "    <tr>\n",
       "      <th>1</th>\n",
       "      <td>Regular</td>\n",
       "      <td>DRC01</td>\n",
       "      <td>48.2692</td>\n",
       "      <td>443.4228</td>\n",
       "      <td>Soft Drinks</td>\n",
       "      <td>0.019278</td>\n",
       "      <td>5.92</td>\n",
       "      <td>2009</td>\n",
       "      <td>OUT018</td>\n",
       "      <td>Tier 3</td>\n",
       "      <td>Medium</td>\n",
       "      <td>Supermarket Type2</td>\n",
       "      <td>train</td>\n",
       "      <td>4</td>\n",
       "    </tr>\n",
       "    <tr>\n",
       "      <th>2</th>\n",
       "      <td>Low Fat</td>\n",
       "      <td>FDN15</td>\n",
       "      <td>141.6180</td>\n",
       "      <td>2097.2700</td>\n",
       "      <td>Meat</td>\n",
       "      <td>0.016760</td>\n",
       "      <td>17.50</td>\n",
       "      <td>1999</td>\n",
       "      <td>OUT049</td>\n",
       "      <td>Tier 1</td>\n",
       "      <td>Medium</td>\n",
       "      <td>Supermarket Type1</td>\n",
       "      <td>train</td>\n",
       "      <td>14</td>\n",
       "    </tr>\n",
       "    <tr>\n",
       "      <th>3</th>\n",
       "      <td>Regular</td>\n",
       "      <td>FDX07</td>\n",
       "      <td>182.0950</td>\n",
       "      <td>732.3800</td>\n",
       "      <td>Fruits and Vegetables</td>\n",
       "      <td>0.000000</td>\n",
       "      <td>19.20</td>\n",
       "      <td>1998</td>\n",
       "      <td>OUT010</td>\n",
       "      <td>Tier 3</td>\n",
       "      <td>Small</td>\n",
       "      <td>Grocery Store</td>\n",
       "      <td>train</td>\n",
       "      <td>15</td>\n",
       "    </tr>\n",
       "    <tr>\n",
       "      <th>4</th>\n",
       "      <td>Low Fat</td>\n",
       "      <td>NCD19</td>\n",
       "      <td>53.8614</td>\n",
       "      <td>994.7052</td>\n",
       "      <td>Household</td>\n",
       "      <td>0.000000</td>\n",
       "      <td>8.93</td>\n",
       "      <td>1987</td>\n",
       "      <td>OUT013</td>\n",
       "      <td>Tier 3</td>\n",
       "      <td>High</td>\n",
       "      <td>Supermarket Type1</td>\n",
       "      <td>train</td>\n",
       "      <td>26</td>\n",
       "    </tr>\n",
       "  </tbody>\n",
       "</table>\n",
       "</div>"
      ],
      "text/plain": [
       "  Item_Fat_Content Item_Identifier  Item_MRP  Item_Outlet_Sales  \\\n",
       "0          Low Fat           FDA15  249.8092          3735.1380   \n",
       "1          Regular           DRC01   48.2692           443.4228   \n",
       "2          Low Fat           FDN15  141.6180          2097.2700   \n",
       "3          Regular           FDX07  182.0950           732.3800   \n",
       "4          Low Fat           NCD19   53.8614           994.7052   \n",
       "\n",
       "               Item_Type  Item_Visibility  Item_Weight  \\\n",
       "0                  Dairy         0.016047         9.30   \n",
       "1            Soft Drinks         0.019278         5.92   \n",
       "2                   Meat         0.016760        17.50   \n",
       "3  Fruits and Vegetables         0.000000        19.20   \n",
       "4              Household         0.000000         8.93   \n",
       "\n",
       "   Outlet_Establishment_Year Outlet_Identifier Outlet_Location_Type  \\\n",
       "0                       1999            OUT049               Tier 1   \n",
       "1                       2009            OUT018               Tier 3   \n",
       "2                       1999            OUT049               Tier 1   \n",
       "3                       1998            OUT010               Tier 3   \n",
       "4                       1987            OUT013               Tier 3   \n",
       "\n",
       "  Outlet_Size        Outlet_Type Source  Outlet_Age  \n",
       "0      Medium  Supermarket Type1  train          14  \n",
       "1      Medium  Supermarket Type2  train           4  \n",
       "2      Medium  Supermarket Type1  train          14  \n",
       "3       Small      Grocery Store  train          15  \n",
       "4        High  Supermarket Type1  train          26  "
      ]
     },
     "execution_count": 35,
     "metadata": {},
     "output_type": "execute_result"
    }
   ],
   "source": [
    "df.head()"
   ]
  },
  {
   "cell_type": "markdown",
   "metadata": {},
   "source": [
    "It does not make sense for Item_Type 'Health and Hygiene', 'Household' and 'Others' to have any Item_Fat_Content, hence we'll create a new category under \"Item_Fat_Content\" called \"Non-Edible\", and replace the fat content info of 'Health and Hygiene', 'Household' and 'Others' with this."
   ]
  },
  {
   "cell_type": "code",
   "execution_count": 36,
   "metadata": {
    "collapsed": true
   },
   "outputs": [],
   "source": [
    "def replace_item_fat(cols):\n",
    "    Fat = cols[0]\n",
    "    Type = cols[1]\n",
    "    if Type == 'Health and Hygiene' or Type == 'Household' or Type == 'Others':\n",
    "        return 'Non-Edible'\n",
    "    else:\n",
    "        return Fat\n",
    "\n",
    "df['Item_Fat_Content'] = df[['Item_Fat_Content','Item_Type']].apply(replace_item_fat,axis=1)"
   ]
  },
  {
   "cell_type": "code",
   "execution_count": 37,
   "metadata": {},
   "outputs": [
    {
     "data": {
      "text/html": [
       "<div>\n",
       "<style>\n",
       "    .dataframe thead tr:only-child th {\n",
       "        text-align: right;\n",
       "    }\n",
       "\n",
       "    .dataframe thead th {\n",
       "        text-align: left;\n",
       "    }\n",
       "\n",
       "    .dataframe tbody tr th {\n",
       "        vertical-align: top;\n",
       "    }\n",
       "</style>\n",
       "<table border=\"1\" class=\"dataframe\">\n",
       "  <thead>\n",
       "    <tr style=\"text-align: right;\">\n",
       "      <th></th>\n",
       "      <th>Item_Fat_Content</th>\n",
       "      <th>Item_Identifier</th>\n",
       "      <th>Item_MRP</th>\n",
       "      <th>Item_Outlet_Sales</th>\n",
       "      <th>Item_Type</th>\n",
       "      <th>Item_Visibility</th>\n",
       "      <th>Item_Weight</th>\n",
       "      <th>Outlet_Establishment_Year</th>\n",
       "      <th>Outlet_Identifier</th>\n",
       "      <th>Outlet_Location_Type</th>\n",
       "      <th>Outlet_Size</th>\n",
       "      <th>Outlet_Type</th>\n",
       "      <th>Source</th>\n",
       "      <th>Outlet_Age</th>\n",
       "    </tr>\n",
       "  </thead>\n",
       "  <tbody>\n",
       "    <tr>\n",
       "      <th>0</th>\n",
       "      <td>Low Fat</td>\n",
       "      <td>FDA15</td>\n",
       "      <td>249.8092</td>\n",
       "      <td>3735.1380</td>\n",
       "      <td>Dairy</td>\n",
       "      <td>0.016047</td>\n",
       "      <td>9.30</td>\n",
       "      <td>1999</td>\n",
       "      <td>OUT049</td>\n",
       "      <td>Tier 1</td>\n",
       "      <td>Medium</td>\n",
       "      <td>Supermarket Type1</td>\n",
       "      <td>train</td>\n",
       "      <td>14</td>\n",
       "    </tr>\n",
       "    <tr>\n",
       "      <th>1</th>\n",
       "      <td>Regular</td>\n",
       "      <td>DRC01</td>\n",
       "      <td>48.2692</td>\n",
       "      <td>443.4228</td>\n",
       "      <td>Soft Drinks</td>\n",
       "      <td>0.019278</td>\n",
       "      <td>5.92</td>\n",
       "      <td>2009</td>\n",
       "      <td>OUT018</td>\n",
       "      <td>Tier 3</td>\n",
       "      <td>Medium</td>\n",
       "      <td>Supermarket Type2</td>\n",
       "      <td>train</td>\n",
       "      <td>4</td>\n",
       "    </tr>\n",
       "    <tr>\n",
       "      <th>2</th>\n",
       "      <td>Low Fat</td>\n",
       "      <td>FDN15</td>\n",
       "      <td>141.6180</td>\n",
       "      <td>2097.2700</td>\n",
       "      <td>Meat</td>\n",
       "      <td>0.016760</td>\n",
       "      <td>17.50</td>\n",
       "      <td>1999</td>\n",
       "      <td>OUT049</td>\n",
       "      <td>Tier 1</td>\n",
       "      <td>Medium</td>\n",
       "      <td>Supermarket Type1</td>\n",
       "      <td>train</td>\n",
       "      <td>14</td>\n",
       "    </tr>\n",
       "    <tr>\n",
       "      <th>3</th>\n",
       "      <td>Regular</td>\n",
       "      <td>FDX07</td>\n",
       "      <td>182.0950</td>\n",
       "      <td>732.3800</td>\n",
       "      <td>Fruits and Vegetables</td>\n",
       "      <td>0.000000</td>\n",
       "      <td>19.20</td>\n",
       "      <td>1998</td>\n",
       "      <td>OUT010</td>\n",
       "      <td>Tier 3</td>\n",
       "      <td>Small</td>\n",
       "      <td>Grocery Store</td>\n",
       "      <td>train</td>\n",
       "      <td>15</td>\n",
       "    </tr>\n",
       "    <tr>\n",
       "      <th>4</th>\n",
       "      <td>Non-Edible</td>\n",
       "      <td>NCD19</td>\n",
       "      <td>53.8614</td>\n",
       "      <td>994.7052</td>\n",
       "      <td>Household</td>\n",
       "      <td>0.000000</td>\n",
       "      <td>8.93</td>\n",
       "      <td>1987</td>\n",
       "      <td>OUT013</td>\n",
       "      <td>Tier 3</td>\n",
       "      <td>High</td>\n",
       "      <td>Supermarket Type1</td>\n",
       "      <td>train</td>\n",
       "      <td>26</td>\n",
       "    </tr>\n",
       "  </tbody>\n",
       "</table>\n",
       "</div>"
      ],
      "text/plain": [
       "  Item_Fat_Content Item_Identifier  Item_MRP  Item_Outlet_Sales  \\\n",
       "0          Low Fat           FDA15  249.8092          3735.1380   \n",
       "1          Regular           DRC01   48.2692           443.4228   \n",
       "2          Low Fat           FDN15  141.6180          2097.2700   \n",
       "3          Regular           FDX07  182.0950           732.3800   \n",
       "4       Non-Edible           NCD19   53.8614           994.7052   \n",
       "\n",
       "               Item_Type  Item_Visibility  Item_Weight  \\\n",
       "0                  Dairy         0.016047         9.30   \n",
       "1            Soft Drinks         0.019278         5.92   \n",
       "2                   Meat         0.016760        17.50   \n",
       "3  Fruits and Vegetables         0.000000        19.20   \n",
       "4              Household         0.000000         8.93   \n",
       "\n",
       "   Outlet_Establishment_Year Outlet_Identifier Outlet_Location_Type  \\\n",
       "0                       1999            OUT049               Tier 1   \n",
       "1                       2009            OUT018               Tier 3   \n",
       "2                       1999            OUT049               Tier 1   \n",
       "3                       1998            OUT010               Tier 3   \n",
       "4                       1987            OUT013               Tier 3   \n",
       "\n",
       "  Outlet_Size        Outlet_Type Source  Outlet_Age  \n",
       "0      Medium  Supermarket Type1  train          14  \n",
       "1      Medium  Supermarket Type2  train           4  \n",
       "2      Medium  Supermarket Type1  train          14  \n",
       "3       Small      Grocery Store  train          15  \n",
       "4        High  Supermarket Type1  train          26  "
      ]
     },
     "execution_count": 37,
     "metadata": {},
     "output_type": "execute_result"
    }
   ],
   "source": [
    "df.head()"
   ]
  },
  {
   "cell_type": "code",
   "execution_count": 38,
   "metadata": {},
   "outputs": [
    {
     "data": {
      "image/png": "[encoded data removed]",
      "text/plain": [
       "<matplotlib.figure.Figure at 0x2b9cf099fd0>"
      ]
     },
     "metadata": {},
     "output_type": "display_data"
    }
   ],
   "source": [
    "Item_Fat_Content_PivotTable = df.pivot_table(index='Item_Fat_Content', values=\"Item_Outlet_Sales\", aggfunc=np.median)\n",
    "Item_Fat_Content_PivotTable.plot(kind='bar')\n",
    "plt.xlabel(\"Item_Fat_Content\")\n",
    "plt.ylabel(\"Item_Outlet_Sales\")\n",
    "plt.show()"
   ]
  },
  {
   "cell_type": "code",
   "execution_count": 39,
   "metadata": {},
   "outputs": [
    {
     "name": "stdout",
     "output_type": "stream",
     "text": [
      "<class 'pandas.core.frame.DataFrame'>\n",
      "RangeIndex: 14204 entries, 0 to 14203\n",
      "Data columns (total 14 columns):\n",
      "Item_Fat_Content             14204 non-null object\n",
      "Item_Identifier              14204 non-null object\n",
      "Item_MRP                     14204 non-null float64\n",
      "Item_Outlet_Sales            8523 non-null float64\n",
      "Item_Type                    14204 non-null object\n",
      "Item_Visibility              14204 non-null float64\n",
      "Item_Weight                  14204 non-null float64\n",
      "Outlet_Establishment_Year    14204 non-null int64\n",
      "Outlet_Identifier            14204 non-null object\n",
      "Outlet_Location_Type         14204 non-null object\n",
      "Outlet_Size                  14204 non-null object\n",
      "Outlet_Type                  14204 non-null object\n",
      "Source                       14204 non-null object\n",
      "Outlet_Age                   14204 non-null int64\n",
      "dtypes: float64(4), int64(2), object(8)\n",
      "memory usage: 1.5+ MB\n"
     ]
    }
   ],
   "source": [
    "df.info()"
   ]
  },
  {
   "cell_type": "markdown",
   "metadata": {},
   "source": [
    "As scikit-learn does not accept categorical features (object type) by default, we will encode the categorical features numerically by using the pandas get_dummies() method.\n",
    "\n",
    "Note that we'll exclude Item_Identifier and Source columns below as they will be dropped later."
   ]
  },
  {
   "cell_type": "code",
   "execution_count": 40,
   "metadata": {
    "collapsed": true
   },
   "outputs": [],
   "source": [
    "df_dummies = pd.get_dummies(df,columns=['Item_Fat_Content','Item_Type','Outlet_Identifier','Outlet_Location_Type','Outlet_Size','Outlet_Type'])"
   ]
  },
  {
   "cell_type": "code",
   "execution_count": 41,
   "metadata": {},
   "outputs": [
    {
     "name": "stdout",
     "output_type": "stream",
     "text": [
      "<class 'pandas.core.frame.DataFrame'>\n",
      "RangeIndex: 14204 entries, 0 to 14203\n",
      "Data columns (total 47 columns):\n",
      "Item_Identifier                    14204 non-null object\n",
      "Item_MRP                           14204 non-null float64\n",
      "Item_Outlet_Sales                  8523 non-null float64\n",
      "Item_Visibility                    14204 non-null float64\n",
      "Item_Weight                        14204 non-null float64\n",
      "Outlet_Establishment_Year          14204 non-null int64\n",
      "Source                             14204 non-null object\n",
      "Outlet_Age                         14204 non-null int64\n",
      "Item_Fat_Content_Low Fat           14204 non-null uint8\n",
      "Item_Fat_Content_Non-Edible        14204 non-null uint8\n",
      "Item_Fat_Content_Regular           14204 non-null uint8\n",
      "Item_Type_Baking Goods             14204 non-null uint8\n",
      "Item_Type_Breads                   14204 non-null uint8\n",
      "Item_Type_Breakfast                14204 non-null uint8\n",
      "Item_Type_Canned                   14204 non-null uint8\n",
      "Item_Type_Dairy                    14204 non-null uint8\n",
      "Item_Type_Frozen Foods             14204 non-null uint8\n",
      "Item_Type_Fruits and Vegetables    14204 non-null uint8\n",
      "Item_Type_Hard Drinks              14204 non-null uint8\n",
      "Item_Type_Health and Hygiene       14204 non-null uint8\n",
      "Item_Type_Household                14204 non-null uint8\n",
      "Item_Type_Meat                     14204 non-null uint8\n",
      "Item_Type_Others                   14204 non-null uint8\n",
      "Item_Type_Seafood                  14204 non-null uint8\n",
      "Item_Type_Snack Foods              14204 non-null uint8\n",
      "Item_Type_Soft Drinks              14204 non-null uint8\n",
      "Item_Type_Starchy Foods            14204 non-null uint8\n",
      "Outlet_Identifier_OUT010           14204 non-null uint8\n",
      "Outlet_Identifier_OUT013           14204 non-null uint8\n",
      "Outlet_Identifier_OUT017           14204 non-null uint8\n",
      "Outlet_Identifier_OUT018           14204 non-null uint8\n",
      "Outlet_Identifier_OUT019           14204 non-null uint8\n",
      "Outlet_Identifier_OUT027           14204 non-null uint8\n",
      "Outlet_Identifier_OUT035           14204 non-null uint8\n",
      "Outlet_Identifier_OUT045           14204 non-null uint8\n",
      "Outlet_Identifier_OUT046           14204 non-null uint8\n",
      "Outlet_Identifier_OUT049           14204 non-null uint8\n",
      "Outlet_Location_Type_Tier 1        14204 non-null uint8\n",
      "Outlet_Location_Type_Tier 2        14204 non-null uint8\n",
      "Outlet_Location_Type_Tier 3        14204 non-null uint8\n",
      "Outlet_Size_High                   14204 non-null uint8\n",
      "Outlet_Size_Medium                 14204 non-null uint8\n",
      "Outlet_Size_Small                  14204 non-null uint8\n",
      "Outlet_Type_Grocery Store          14204 non-null uint8\n",
      "Outlet_Type_Supermarket Type1      14204 non-null uint8\n",
      "Outlet_Type_Supermarket Type2      14204 non-null uint8\n",
      "Outlet_Type_Supermarket Type3      14204 non-null uint8\n",
      "dtypes: float64(4), int64(2), object(2), uint8(39)\n",
      "memory usage: 1.4+ MB\n"
     ]
    }
   ],
   "source": [
    "df_dummies.info()"
   ]
  },
  {
   "cell_type": "markdown",
   "metadata": {},
   "source": [
    "Drop Item_Identifier and Outlet_Establishment_Year from the dataframe."
   ]
  },
  {
   "cell_type": "code",
   "execution_count": 42,
   "metadata": {
    "collapsed": true
   },
   "outputs": [],
   "source": [
    "df_dummies = df_dummies.drop(['Item_Identifier','Outlet_Establishment_Year'], axis = 1)"
   ]
  },
  {
   "cell_type": "code",
   "execution_count": 43,
   "metadata": {},
   "outputs": [
    {
     "name": "stdout",
     "output_type": "stream",
     "text": [
      "<class 'pandas.core.frame.DataFrame'>\n",
      "RangeIndex: 14204 entries, 0 to 14203\n",
      "Data columns (total 45 columns):\n",
      "Item_MRP                           14204 non-null float64\n",
      "Item_Outlet_Sales                  8523 non-null float64\n",
      "Item_Visibility                    14204 non-null float64\n",
      "Item_Weight                        14204 non-null float64\n",
      "Source                             14204 non-null object\n",
      "Outlet_Age                         14204 non-null int64\n",
      "Item_Fat_Content_Low Fat           14204 non-null uint8\n",
      "Item_Fat_Content_Non-Edible        14204 non-null uint8\n",
      "Item_Fat_Content_Regular           14204 non-null uint8\n",
      "Item_Type_Baking Goods             14204 non-null uint8\n",
      "Item_Type_Breads                   14204 non-null uint8\n",
      "Item_Type_Breakfast                14204 non-null uint8\n",
      "Item_Type_Canned                   14204 non-null uint8\n",
      "Item_Type_Dairy                    14204 non-null uint8\n",
      "Item_Type_Frozen Foods             14204 non-null uint8\n",
      "Item_Type_Fruits and Vegetables    14204 non-null uint8\n",
      "Item_Type_Hard Drinks              14204 non-null uint8\n",
      "Item_Type_Health and Hygiene       14204 non-null uint8\n",
      "Item_Type_Household                14204 non-null uint8\n",
      "Item_Type_Meat                     14204 non-null uint8\n",
      "Item_Type_Others                   14204 non-null uint8\n",
      "Item_Type_Seafood                  14204 non-null uint8\n",
      "Item_Type_Snack Foods              14204 non-null uint8\n",
      "Item_Type_Soft Drinks              14204 non-null uint8\n",
      "Item_Type_Starchy Foods            14204 non-null uint8\n",
      "Outlet_Identifier_OUT010           14204 non-null uint8\n",
      "Outlet_Identifier_OUT013           14204 non-null uint8\n",
      "Outlet_Identifier_OUT017           14204 non-null uint8\n",
      "Outlet_Identifier_OUT018           14204 non-null uint8\n",
      "Outlet_Identifier_OUT019           14204 non-null uint8\n",
      "Outlet_Identifier_OUT027           14204 non-null uint8\n",
      "Outlet_Identifier_OUT035           14204 non-null uint8\n",
      "Outlet_Identifier_OUT045           14204 non-null uint8\n",
      "Outlet_Identifier_OUT046           14204 non-null uint8\n",
      "Outlet_Identifier_OUT049           14204 non-null uint8\n",
      "Outlet_Location_Type_Tier 1        14204 non-null uint8\n",
      "Outlet_Location_Type_Tier 2        14204 non-null uint8\n",
      "Outlet_Location_Type_Tier 3        14204 non-null uint8\n",
      "Outlet_Size_High                   14204 non-null uint8\n",
      "Outlet_Size_Medium                 14204 non-null uint8\n",
      "Outlet_Size_Small                  14204 non-null uint8\n",
      "Outlet_Type_Grocery Store          14204 non-null uint8\n",
      "Outlet_Type_Supermarket Type1      14204 non-null uint8\n",
      "Outlet_Type_Supermarket Type2      14204 non-null uint8\n",
      "Outlet_Type_Supermarket Type3      14204 non-null uint8\n",
      "dtypes: float64(4), int64(1), object(1), uint8(39)\n",
      "memory usage: 1.2+ MB\n"
     ]
    }
   ],
   "source": [
    "df_dummies.info()"
   ]
  },
  {
   "cell_type": "markdown",
   "metadata": {},
   "source": [
    "For the new columns created by get_dummies, one of each category can be deleted. For example, for Outlet_Size, there's high, medium and small, but if an outlet is not high or medium, it can be deduced that it's small. Hence, Outlet_Size_Small can be dropped."
   ]
  },
  {
   "cell_type": "code",
   "execution_count": 44,
   "metadata": {
    "collapsed": true
   },
   "outputs": [],
   "source": [
    "df_dummies = df_dummies.drop(['Item_Fat_Content_Regular','Item_Type_Starchy Foods','Outlet_Identifier_OUT049','Outlet_Location_Type_Tier 3','Outlet_Size_Small','Outlet_Type_Supermarket Type3'], axis = 1)"
   ]
  },
  {
   "cell_type": "code",
   "execution_count": 45,
   "metadata": {},
   "outputs": [
    {
     "name": "stdout",
     "output_type": "stream",
     "text": [
      "<class 'pandas.core.frame.DataFrame'>\n",
      "RangeIndex: 14204 entries, 0 to 14203\n",
      "Data columns (total 39 columns):\n",
      "Item_MRP                           14204 non-null float64\n",
      "Item_Outlet_Sales                  8523 non-null float64\n",
      "Item_Visibility                    14204 non-null float64\n",
      "Item_Weight                        14204 non-null float64\n",
      "Source                             14204 non-null object\n",
      "Outlet_Age                         14204 non-null int64\n",
      "Item_Fat_Content_Low Fat           14204 non-null uint8\n",
      "Item_Fat_Content_Non-Edible        14204 non-null uint8\n",
      "Item_Type_Baking Goods             14204 non-null uint8\n",
      "Item_Type_Breads                   14204 non-null uint8\n",
      "Item_Type_Breakfast                14204 non-null uint8\n",
      "Item_Type_Canned                   14204 non-null uint8\n",
      "Item_Type_Dairy                    14204 non-null uint8\n",
      "Item_Type_Frozen Foods             14204 non-null uint8\n",
      "Item_Type_Fruits and Vegetables    14204 non-null uint8\n",
      "Item_Type_Hard Drinks              14204 non-null uint8\n",
      "Item_Type_Health and Hygiene       14204 non-null uint8\n",
      "Item_Type_Household                14204 non-null uint8\n",
      "Item_Type_Meat                     14204 non-null uint8\n",
      "Item_Type_Others                   14204 non-null uint8\n",
      "Item_Type_Seafood                  14204 non-null uint8\n",
      "Item_Type_Snack Foods              14204 non-null uint8\n",
      "Item_Type_Soft Drinks              14204 non-null uint8\n",
      "Outlet_Identifier_OUT010           14204 non-null uint8\n",
      "Outlet_Identifier_OUT013           14204 non-null uint8\n",
      "Outlet_Identifier_OUT017           14204 non-null uint8\n",
      "Outlet_Identifier_OUT018           14204 non-null uint8\n",
      "Outlet_Identifier_OUT019           14204 non-null uint8\n",
      "Outlet_Identifier_OUT027           14204 non-null uint8\n",
      "Outlet_Identifier_OUT035           14204 non-null uint8\n",
      "Outlet_Identifier_OUT045           14204 non-null uint8\n",
      "Outlet_Identifier_OUT046           14204 non-null uint8\n",
      "Outlet_Location_Type_Tier 1        14204 non-null uint8\n",
      "Outlet_Location_Type_Tier 2        14204 non-null uint8\n",
      "Outlet_Size_High                   14204 non-null uint8\n",
      "Outlet_Size_Medium                 14204 non-null uint8\n",
      "Outlet_Type_Grocery Store          14204 non-null uint8\n",
      "Outlet_Type_Supermarket Type1      14204 non-null uint8\n",
      "Outlet_Type_Supermarket Type2      14204 non-null uint8\n",
      "dtypes: float64(4), int64(1), object(1), uint8(33)\n",
      "memory usage: 1.1+ MB\n"
     ]
    }
   ],
   "source": [
    "df_dummies.info()"
   ]
  },
  {
   "cell_type": "markdown",
   "metadata": {},
   "source": [
    "All pre-processing is complete, we can now split the dataframe back to training and testing sets, based on the 'Source' column, and subsequently drop the 'Source' column."
   ]
  },
  {
   "cell_type": "code",
   "execution_count": 46,
   "metadata": {},
   "outputs": [
    {
     "name": "stdout",
     "output_type": "stream",
     "text": [
      "<class 'pandas.core.frame.DataFrame'>\n",
      "Int64Index: 8523 entries, 0 to 8522\n",
      "Data columns (total 38 columns):\n",
      "Item_MRP                           8523 non-null float64\n",
      "Item_Outlet_Sales                  8523 non-null float64\n",
      "Item_Visibility                    8523 non-null float64\n",
      "Item_Weight                        8523 non-null float64\n",
      "Outlet_Age                         8523 non-null int64\n",
      "Item_Fat_Content_Low Fat           8523 non-null uint8\n",
      "Item_Fat_Content_Non-Edible        8523 non-null uint8\n",
      "Item_Type_Baking Goods             8523 non-null uint8\n",
      "Item_Type_Breads                   8523 non-null uint8\n",
      "Item_Type_Breakfast                8523 non-null uint8\n",
      "Item_Type_Canned                   8523 non-null uint8\n",
      "Item_Type_Dairy                    8523 non-null uint8\n",
      "Item_Type_Frozen Foods             8523 non-null uint8\n",
      "Item_Type_Fruits and Vegetables    8523 non-null uint8\n",
      "Item_Type_Hard Drinks              8523 non-null uint8\n",
      "Item_Type_Health and Hygiene       8523 non-null uint8\n",
      "Item_Type_Household                8523 non-null uint8\n",
      "Item_Type_Meat                     8523 non-null uint8\n",
      "Item_Type_Others                   8523 non-null uint8\n",
      "Item_Type_Seafood                  8523 non-null uint8\n",
      "Item_Type_Snack Foods              8523 non-null uint8\n",
      "Item_Type_Soft Drinks              8523 non-null uint8\n",
      "Outlet_Identifier_OUT010           8523 non-null uint8\n",
      "Outlet_Identifier_OUT013           8523 non-null uint8\n",
      "Outlet_Identifier_OUT017           8523 non-null uint8\n",
      "Outlet_Identifier_OUT018           8523 non-null uint8\n",
      "Outlet_Identifier_OUT019           8523 non-null uint8\n",
      "Outlet_Identifier_OUT027           8523 non-null uint8\n",
      "Outlet_Identifier_OUT035           8523 non-null uint8\n",
      "Outlet_Identifier_OUT045           8523 non-null uint8\n",
      "Outlet_Identifier_OUT046           8523 non-null uint8\n",
      "Outlet_Location_Type_Tier 1        8523 non-null uint8\n",
      "Outlet_Location_Type_Tier 2        8523 non-null uint8\n",
      "Outlet_Size_High                   8523 non-null uint8\n",
      "Outlet_Size_Medium                 8523 non-null uint8\n",
      "Outlet_Type_Grocery Store          8523 non-null uint8\n",
      "Outlet_Type_Supermarket Type1      8523 non-null uint8\n",
      "Outlet_Type_Supermarket Type2      8523 non-null uint8\n",
      "dtypes: float64(4), int64(1), uint8(33)\n",
      "memory usage: 674.2 KB\n"
     ]
    }
   ],
   "source": [
    "df_train_dummies = df_dummies.loc[df_dummies['Source']==\"train\"]\n",
    "df_test_dummies = df_dummies.loc[df_dummies['Source']==\"test\"]\n",
    "\n",
    "df_train_dummies = df_train_dummies.drop(['Source'],axis=1)\n",
    "df_test_dummies = df_test_dummies.drop(['Item_Outlet_Sales','Source'],axis=1)\n",
    "\n",
    "df_train_dummies.info()"
   ]
  },
  {
   "cell_type": "code",
   "execution_count": 47,
   "metadata": {},
   "outputs": [
    {
     "name": "stdout",
     "output_type": "stream",
     "text": [
      "<class 'pandas.core.frame.DataFrame'>\n",
      "Int64Index: 5681 entries, 8523 to 14203\n",
      "Data columns (total 37 columns):\n",
      "Item_MRP                           5681 non-null float64\n",
      "Item_Visibility                    5681 non-null float64\n",
      "Item_Weight                        5681 non-null float64\n",
      "Outlet_Age                         5681 non-null int64\n",
      "Item_Fat_Content_Low Fat           5681 non-null uint8\n",
      "Item_Fat_Content_Non-Edible        5681 non-null uint8\n",
      "Item_Type_Baking Goods             5681 non-null uint8\n",
      "Item_Type_Breads                   5681 non-null uint8\n",
      "Item_Type_Breakfast                5681 non-null uint8\n",
      "Item_Type_Canned                   5681 non-null uint8\n",
      "Item_Type_Dairy                    5681 non-null uint8\n",
      "Item_Type_Frozen Foods             5681 non-null uint8\n",
      "Item_Type_Fruits and Vegetables    5681 non-null uint8\n",
      "Item_Type_Hard Drinks              5681 non-null uint8\n",
      "Item_Type_Health and Hygiene       5681 non-null uint8\n",
      "Item_Type_Household                5681 non-null uint8\n",
      "Item_Type_Meat                     5681 non-null uint8\n",
      "Item_Type_Others                   5681 non-null uint8\n",
      "Item_Type_Seafood                  5681 non-null uint8\n",
      "Item_Type_Snack Foods              5681 non-null uint8\n",
      "Item_Type_Soft Drinks              5681 non-null uint8\n",
      "Outlet_Identifier_OUT010           5681 non-null uint8\n",
      "Outlet_Identifier_OUT013           5681 non-null uint8\n",
      "Outlet_Identifier_OUT017           5681 non-null uint8\n",
      "Outlet_Identifier_OUT018           5681 non-null uint8\n",
      "Outlet_Identifier_OUT019           5681 non-null uint8\n",
      "Outlet_Identifier_OUT027           5681 non-null uint8\n",
      "Outlet_Identifier_OUT035           5681 non-null uint8\n",
      "Outlet_Identifier_OUT045           5681 non-null uint8\n",
      "Outlet_Identifier_OUT046           5681 non-null uint8\n",
      "Outlet_Location_Type_Tier 1        5681 non-null uint8\n",
      "Outlet_Location_Type_Tier 2        5681 non-null uint8\n",
      "Outlet_Size_High                   5681 non-null uint8\n",
      "Outlet_Size_Medium                 5681 non-null uint8\n",
      "Outlet_Type_Grocery Store          5681 non-null uint8\n",
      "Outlet_Type_Supermarket Type1      5681 non-null uint8\n",
      "Outlet_Type_Supermarket Type2      5681 non-null uint8\n",
      "dtypes: float64(3), int64(1), uint8(33)\n",
      "memory usage: 405.0 KB\n"
     ]
    }
   ],
   "source": [
    "df_test_dummies.info()"
   ]
  },
  {
   "cell_type": "code",
   "execution_count": 48,
   "metadata": {},
   "outputs": [
    {
     "name": "stdout",
     "output_type": "stream",
     "text": [
      "(8523,)\n",
      "(8523, 37)\n"
     ]
    }
   ],
   "source": [
    "y = df_train_dummies['Item_Outlet_Sales'].values\n",
    "print(y.shape)\n",
    "X = df_train_dummies.drop('Item_Outlet_Sales', axis=1).values\n",
    "print(X.shape)\n"
   ]
  },
  {
   "cell_type": "markdown",
   "metadata": {},
   "source": [
    "### Step 4: Model Selection and Tuning"
   ]
  },
  {
   "cell_type": "code",
   "execution_count": 49,
   "metadata": {},
   "outputs": [
    {
     "name": "stdout",
     "output_type": "stream",
     "text": [
      "Root mean squared error:  1123.70842675\n"
     ]
    }
   ],
   "source": [
    "# Linear regression model\n",
    "steps = [('scaler', StandardScaler()), ('reg', LinearRegression())]\n",
    "\n",
    "pipeline=Pipeline(steps)\n",
    "\n",
    "X_train, X_valid, y_train, y_valid = train_test_split(X,y,test_size=0.25, random_state=33)\n",
    "\n",
    "pipeline.fit(X_train, y_train)\n",
    "y_pred = pipeline.predict(X_valid)\n",
    "\n",
    "print(\"Root mean squared error: \", np.sqrt(mean_squared_error(y_valid, y_pred)))"
   ]
  },
  {
   "cell_type": "code",
   "execution_count": 50,
   "metadata": {},
   "outputs": [
    {
     "name": "stdout",
     "output_type": "stream",
     "text": [
      "Tuned hyperparameters:  {'ridge__alpha': 21.428571428571431}\n",
      "Root mean squared error:  1123.61936514\n"
     ]
    }
   ],
   "source": [
    "# Ridge model\n",
    "steps = [('scaler', StandardScaler()), ('ridge', Ridge())]\n",
    "\n",
    "pipeline=Pipeline(steps)\n",
    "\n",
    "X_train, X_valid, y_train, y_valid = train_test_split(X,y,test_size=0.25, random_state=33)\n",
    "\n",
    "alphas = np.linspace(10, 50, 15)\n",
    "parameters = {'ridge__alpha':alphas}\n",
    "cv = GridSearchCV(pipeline, param_grid=parameters)\n",
    "\n",
    "cv.fit(X_train, y_train)\n",
    "y_pred = cv.predict(X_valid)\n",
    "\n",
    "print(\"Tuned hyperparameters: \", cv.best_params_)\n",
    "print(\"Root mean squared error: \", np.sqrt(mean_squared_error(y_valid, y_pred)))\n"
   ]
  },
  {
   "cell_type": "code",
   "execution_count": 52,
   "metadata": {},
   "outputs": [
    {
     "name": "stdout",
     "output_type": "stream",
     "text": [
      "Tuned hyperparameters:  {'lasso__alpha': 14.285714285714285}\n",
      "Root mean squared error:  1124.54938589\n"
     ]
    }
   ],
   "source": [
    "# Lasso model\n",
    "steps = [('scaler', StandardScaler()), ('lasso', Lasso())]\n",
    "\n",
    "pipeline=Pipeline(steps)\n",
    "\n",
    "X_train, X_valid, y_train, y_valid = train_test_split(X,y,test_size=0.25, random_state=33)\n",
    "\n",
    "alphas = np.linspace(4, 20, 15)\n",
    "parameters = {'lasso__alpha':alphas}\n",
    "cv = GridSearchCV(pipeline, param_grid=parameters)\n",
    "\n",
    "cv.fit(X_train, y_train)\n",
    "y_pred = cv.predict(X_valid)\n",
    "\n",
    "print(\"Tuned hyperparameters: \", cv.best_params_)\n",
    "print(\"Root mean squared error: \", np.sqrt(mean_squared_error(y_valid, y_pred)))"
   ]
  },
  {
   "cell_type": "code",
   "execution_count": 62,
   "metadata": {},
   "outputs": [
    {
     "name": "stdout",
     "output_type": "stream",
     "text": [
      "Tuned hyperparameters:  {'random_forest__max_features': 10, 'random_forest__n_estimators': 300}\n",
      "Root mean squared error:  1104.94901119\n"
     ]
    }
   ],
   "source": [
    "# Random Forest model\n",
    "steps = [('scaler', StandardScaler()), ('random_forest', RandomForestRegressor())]\n",
    "\n",
    "pipeline=Pipeline(steps)\n",
    "\n",
    "X_train, X_valid, y_train, y_valid = train_test_split(X,y,test_size=0.25, random_state=33)\n",
    "\n",
    "estimators = [200,300,400,500,600]\n",
    "features = [2,4,6,8,10]\n",
    "parameters = {'random_forest__n_estimators':estimators,'random_forest__max_features':features}\n",
    "cv = GridSearchCV(pipeline, param_grid=parameters)\n",
    "\n",
    "cv.fit(X_train, y_train)\n",
    "y_pred = cv.predict(X_valid)\n",
    "\n",
    "print(\"Tuned hyperparameters: \", cv.best_params_)\n",
    "print(\"Root mean squared error: \", np.sqrt(mean_squared_error(y_valid, y_pred)))"
   ]
  },
  {
   "cell_type": "markdown",
   "metadata": {},
   "source": [
    "### Step 5: Conclusion"
   ]
  },
  {
   "cell_type": "markdown",
   "metadata": {
    "collapsed": true
   },
   "source": [
    "Out of linear regression, ridge, lasso, and random forest models, random forest performed the best, with the lowest **RMSE of 1,104.95**."
   ]
  },
  {
   "cell_type": "code",
   "execution_count": null,
   "metadata": {
    "collapsed": true
   },
   "outputs": [],
   "source": []
  }
 ],
 "metadata": {
  "kernelspec": {
   "display_name": "Python 3",
   "language": "python",
   "name": "python3"
  },
  "language_info": {
   "codemirror_mode": {
    "name": "ipython",
    "version": 3
   },
   "file_extension": ".py",
   "mimetype": "text/x-python",
   "name": "python",
   "nbconvert_exporter": "python",
   "pygments_lexer": "ipython3",
   "version": "3.6.1"
  }
 },
 "nbformat": 4,
 "nbformat_minor": 2
}
