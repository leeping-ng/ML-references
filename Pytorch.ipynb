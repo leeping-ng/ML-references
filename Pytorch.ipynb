{
 "cells": [
  {
   "cell_type": "code",
   "execution_count": 4,
   "metadata": {},
   "outputs": [],
   "source": [
    "# our basic libraries\n",
    "import torch\n",
    "import torchvision\n",
    "import numpy as np\n",
    "import matplotlib.pyplot as plt\n",
    "%matplotlib inline\n",
    "\n",
    "# data loading and transforming\n",
    "from torchvision.datasets import FashionMNIST\n",
    "from torch.utils.data import DataLoader\n",
    "from torchvision import transforms\n",
    "\n",
    "import torch.nn as nn\n",
    "import torch.nn.functional as F\n",
    "import torch.optim as optim\n"
   ]
  },
  {
   "cell_type": "code",
   "execution_count": 5,
   "metadata": {},
   "outputs": [],
   "source": [
    "## TODO: you can try changing the batch_size to be larger or smaller\n",
    "## when you get to training your network, see how batch_size affects the loss\n",
    "batch_size=20\n",
    "\n",
    "# The output of torchvision datasets are PILImage images of range [0, 1]. \n",
    "# We transform them to Tensors for input into a CNN\n",
    "data_transform = transforms.ToTensor()\n",
    "\n",
    "# Download and load the training data\n",
    "trainset = FashionMNIST('F_MNIST_data/', download=True, train=True, transform=data_transform)\n",
    "trainloader = DataLoader(trainset, batch_size=batch_size, shuffle=True)\n",
    "\n",
    "# Download and load the test data\n",
    "testset = FashionMNIST('F_MNIST_data/', download=True, train=False, transform=data_transform)\n",
    "testloader = DataLoader(testset, batch_size=batch_size, shuffle=True)"
   ]
  },
  {
   "cell_type": "code",
   "execution_count": 6,
   "metadata": {},
   "outputs": [
    {
     "name": "stdout",
     "output_type": "stream",
     "text": [
      "Train data, number of images:  60000\n",
      "Test data, number of images:  10000\n"
     ]
    }
   ],
   "source": [
    "print('Train data, number of images: ', len(trainset))\n",
    "print('Test data, number of images: ', len(testset))"
   ]
  },
  {
   "cell_type": "code",
   "execution_count": 17,
   "metadata": {},
   "outputs": [
    {
     "data": {
      "text/plain": [
       "torch.Size([20, 1, 28, 28])"
      ]
     },
     "execution_count": 17,
     "metadata": {},
     "output_type": "execute_result"
    }
   ],
   "source": [
    "images, labels = next(iter(trainloader))\n",
    "images.size()"
   ]
  },
  {
   "cell_type": "code",
   "execution_count": 18,
   "metadata": {},
   "outputs": [
    {
     "data": {
      "text/plain": [
       "<matplotlib.image.AxesImage at 0x7f75e8438eb8>"
      ]
     },
     "execution_count": 18,
     "metadata": {},
     "output_type": "execute_result"
    },
    {
     "data": {
      "image/png": "[encoded data removed]",
      "text/plain": [
       "<Figure size 432x288 with 1 Axes>"
      ]
     },
     "metadata": {
      "needs_background": "light"
     },
     "output_type": "display_data"
    }
   ],
   "source": [
    "plt.imshow(images[1].numpy().squeeze(), cmap='gray')"
   ]
  },
  {
   "cell_type": "code",
   "execution_count": 7,
   "metadata": {},
   "outputs": [
    {
     "name": "stdout",
     "output_type": "stream",
     "text": [
      "Model(\n",
      "  (conv1): Conv2d(1, 10, kernel_size=(3, 3), stride=(1, 1))\n",
      "  (pool): MaxPool2d(kernel_size=2, stride=2, padding=0, dilation=1, ceil_mode=False)\n",
      "  (conv2): Conv2d(10, 20, kernel_size=(3, 3), stride=(1, 1))\n",
      "  (fc1): Linear(in_features=500, out_features=10, bias=True)\n",
      ")\n"
     ]
    }
   ],
   "source": [
    "class Model(nn.Module):\n",
    "\n",
    "    def __init__(self):\n",
    "        super(Model, self).__init__()\n",
    "        \n",
    "        # 1 input image channel (grayscale), 10 output channels/feature maps\n",
    "        # 3x3 square convolution kernel\n",
    "        # from (1, 28, 28) to (10, 26, 26)\n",
    "        self.conv1 = nn.Conv2d(1, 10, 3)\n",
    "        \n",
    "        ## TODO: Define the rest of the layers:\n",
    "        # include another conv layer, maxpooling layers, and linear layers\n",
    "        # also consider adding a dropout layer to avoid overfitting\n",
    "        # from (10, 26, 26) to (10, 13, 13)\n",
    "        # from (20, 11, 11) to (20, 5, 5)\n",
    "        self.pool = nn.MaxPool2d(2, 2)\n",
    "        \n",
    "        # from (10, 13, 13) to (20, 11, 11)\n",
    "        self.conv2 = nn.Conv2d(10, 20, 3)\n",
    "        \n",
    "        \n",
    "        # from (20, 5, 5) to (10)\n",
    "        self.fc1 = nn.Linear(20*5*5, 10)\n",
    "        \n",
    "\n",
    "    ## TODO: define the feedforward behavior\n",
    "    def forward(self, x):\n",
    "        # one activated conv layer\n",
    "        x = self.pool(F.relu(self.conv1(x)))\n",
    "        \n",
    "        x = self.pool(F.relu(self.conv2(x)))\n",
    "        \n",
    "        # flatten\n",
    "        x = x.view(x.size(0), -1)\n",
    "        \n",
    "        # one linear layer\n",
    "        x = F.relu(self.fc1(x))\n",
    "        # a softmax layer to convert the 10 outputs into a distribution of class scores\n",
    "        x = F.log_softmax(x, dim=1)\n",
    "        \n",
    "        # final output\n",
    "        return x\n",
    "\n",
    "\n",
    "# instantiate and print your Net\n",
    "model = Model()\n",
    "print(model)"
   ]
  },
  {
   "cell_type": "code",
   "execution_count": 8,
   "metadata": {},
   "outputs": [],
   "source": [
    "# cross entropy loss combines softmax and nn.NLLLoss() in one single class.\n",
    "criterion = nn.NLLLoss()\n",
    "\n",
    "# stochastic gradient descent with a small learning rate\n",
    "optimizer = optim.SGD(model.parameters(), lr=0.001)"
   ]
  },
  {
   "cell_type": "code",
   "execution_count": 21,
   "metadata": {},
   "outputs": [],
   "source": [
    "\n",
    "\n",
    "def train(n_epochs):\n",
    "    loss_over_time = []\n",
    "    \n",
    "    # move model to GPU\n",
    "    #model.to(\"cuda\")\n",
    "\n",
    "    for epoch in range(n_epochs):\n",
    "        running_loss = 0.0\n",
    "        batch_i = 0\n",
    "        for images, labels in iter(trainloader):\n",
    "            \n",
    "            # move images and label tensors to GPU\n",
    "            #images = images.to(\"cuda\")\n",
    "            #labels = labels.to(\"cuda\")\n",
    "            \n",
    "            \n",
    "            #zero the weight gradients\n",
    "            optimizer.zero_grad()\n",
    "            \n",
    "            # forward pass to get outputs\n",
    "            outputs = model(images)\n",
    "            \n",
    "            # calculate the loss\n",
    "            loss = criterion(outputs, labels)\n",
    "            \n",
    "            # backward pass to calculate the parameter gradients\n",
    "            loss.backward()\n",
    "            \n",
    "            # update the parameters\n",
    "            optimizer.step()\n",
    "            \n",
    "            # print loss statistics\n",
    "            # to convert loss into a scalar and add it to running_loss, we use .item()\n",
    "            epoch_loss = loss.item()\n",
    "            batch_i+=batch_size\n",
    "            \n",
    "            running_loss += loss.item()\n",
    "            if batch_i%20000 == 0:    # print every 1000 batches\n",
    "                avg_loss = running_loss/1000\n",
    "                # record and print the avg loss over the 1000 batches\n",
    "                loss_over_time.append(avg_loss)\n",
    "                print('Epoch: {}, Batch: {}, Avg. Loss: {}'.format(epoch + 1, batch_i, avg_loss))\n",
    "                running_loss = 0.0\n",
    "            \n",
    "                \n",
    "#         loss_over_time.append(epoch_loss)      \n",
    "#         print(\"Epoch: {}, Loss: {}\".format(epoch+1, epoch_loss))\n",
    "                \n",
    "    print(\"Finished training\")\n",
    "    return loss_over_time\n",
    "                \n",
    "            \n",
    "        \n",
    "    "
   ]
  },
  {
   "cell_type": "code",
   "execution_count": 22,
   "metadata": {},
   "outputs": [
    {
     "name": "stdout",
     "output_type": "stream",
     "text": [
      "Epoch: 1, Batch: 20000, Avg. Loss: 2.24786385178566\n",
      "Epoch: 1, Batch: 40000, Avg. Loss: 1.993544463992119\n",
      "Epoch: 1, Batch: 60000, Avg. Loss: 1.589820218503475\n",
      "Epoch: 2, Batch: 20000, Avg. Loss: 1.4087335712313651\n",
      "Epoch: 2, Batch: 40000, Avg. Loss: 1.2983681752085685\n",
      "Epoch: 2, Batch: 60000, Avg. Loss: 1.2443346768021584\n",
      "Epoch: 3, Batch: 20000, Avg. Loss: 1.201779434144497\n",
      "Epoch: 3, Batch: 40000, Avg. Loss: 1.1901785299181937\n",
      "Epoch: 3, Batch: 60000, Avg. Loss: 1.1735770249962807\n",
      "Epoch: 4, Batch: 20000, Avg. Loss: 1.156689530134201\n",
      "Epoch: 4, Batch: 40000, Avg. Loss: 1.1267522166967392\n",
      "Epoch: 4, Batch: 60000, Avg. Loss: 1.1235617685317993\n",
      "Epoch: 5, Batch: 20000, Avg. Loss: 1.1128305925130844\n",
      "Epoch: 5, Batch: 40000, Avg. Loss: 1.084244221240282\n",
      "Epoch: 5, Batch: 60000, Avg. Loss: 1.0962794167101384\n",
      "Finished training\n"
     ]
    }
   ],
   "source": [
    "n_epochs = 5\n",
    "\n",
    "\n",
    "training_loss = train(n_epochs)"
   ]
  },
  {
   "cell_type": "code",
   "execution_count": 67,
   "metadata": {},
   "outputs": [
    {
     "data": {
      "text/plain": [
       "999"
      ]
     },
     "execution_count": 67,
     "metadata": {},
     "output_type": "execute_result"
    }
   ],
   "source": [
    "999%1000\n"
   ]
  },
  {
   "cell_type": "code",
   "execution_count": 9,
   "metadata": {},
   "outputs": [],
   "source": [
    "def train(n_epochs):\n",
    "    \n",
    "    loss_over_time = [] # to track the loss as the network trains\n",
    "    \n",
    "    # move model to GPU\n",
    "    #model.to(\"cuda\")\n",
    "    \n",
    "    for epoch in range(n_epochs):  # loop over the dataset multiple times\n",
    "        \n",
    "        running_loss = 0.0\n",
    "        \n",
    "        for batch_i, data in enumerate(trainloader):\n",
    "            # get the input images and their corresponding labels\n",
    "            inputs, labels = data\n",
    "            \n",
    "            # move images and label tensors to GPU\n",
    "            #inputs = inputs.to(\"cuda\")\n",
    "            #labels = labels.to(\"cuda\")\n",
    "\n",
    "            # zero the parameter (weight) gradients\n",
    "            optimizer.zero_grad()\n",
    "\n",
    "            # forward pass to get outputs\n",
    "            outputs = model(inputs)\n",
    "\n",
    "            # calculate the loss\n",
    "            loss = criterion(outputs, labels)\n",
    "\n",
    "            # backward pass to calculate the parameter gradients\n",
    "            loss.backward()\n",
    "\n",
    "            # update the parameters\n",
    "            optimizer.step()\n",
    "\n",
    "            # print loss statistics\n",
    "            # to convert loss into a scalar and add it to running_loss, we use .item()\n",
    "            running_loss += loss.item()\n",
    "            \n",
    "            if batch_i % 1000 == 999:    # print every 1000 batches\n",
    "                avg_loss = running_loss/1000\n",
    "                # record and print the avg loss over the 1000 batches\n",
    "                loss_over_time.append(avg_loss)\n",
    "                print('Epoch: {}, Batch: {}, Avg. Loss: {}'.format(epoch + 1, batch_i+1, avg_loss))\n",
    "                running_loss = 0.0\n",
    "\n",
    "    print('Finished Training')\n",
    "    return loss_over_time"
   ]
  },
  {
   "cell_type": "code",
   "execution_count": 10,
   "metadata": {},
   "outputs": [
    {
     "name": "stdout",
     "output_type": "stream",
     "text": [
      "Epoch: 1, Batch: 1000, Avg. Loss: 2.291698361158371\n",
      "Epoch: 1, Batch: 2000, Avg. Loss: 2.255459939479828\n",
      "Epoch: 1, Batch: 3000, Avg. Loss: 2.118408938884735\n",
      "Epoch: 2, Batch: 1000, Avg. Loss: 1.7161077836751937\n",
      "Epoch: 2, Batch: 2000, Avg. Loss: 1.4990334876775742\n",
      "Epoch: 2, Batch: 3000, Avg. Loss: 1.3907651245594024\n",
      "Epoch: 3, Batch: 1000, Avg. Loss: 1.2120998161435128\n",
      "Epoch: 3, Batch: 2000, Avg. Loss: 1.1009270148277284\n",
      "Epoch: 3, Batch: 3000, Avg. Loss: 1.03816006731987\n",
      "Epoch: 4, Batch: 1000, Avg. Loss: 0.9974813283085823\n",
      "Epoch: 4, Batch: 2000, Avg. Loss: 0.9945689930021763\n",
      "Epoch: 4, Batch: 3000, Avg. Loss: 0.9704925980567932\n",
      "Epoch: 5, Batch: 1000, Avg. Loss: 0.951262921333313\n",
      "Epoch: 5, Batch: 2000, Avg. Loss: 0.9260910192728042\n",
      "Epoch: 5, Batch: 3000, Avg. Loss: 0.9278217017352581\n",
      "Finished Training\n"
     ]
    }
   ],
   "source": [
    "n_epochs = 5\n",
    "\n",
    "\n",
    "training_loss = train(n_epochs)"
   ]
  },
  {
   "cell_type": "code",
   "execution_count": 23,
   "metadata": {},
   "outputs": [
    {
     "data": {
      "text/plain": [
       "True"
      ]
     },
     "execution_count": 23,
     "metadata": {},
     "output_type": "execute_result"
    }
   ],
   "source": [
    "torch.cuda.is_available()"
   ]
  },
  {
   "cell_type": "code",
   "execution_count": 24,
   "metadata": {},
   "outputs": [
    {
     "data": {
      "text/plain": [
       "'GeForce RTX 2070 with Max-Q Design'"
      ]
     },
     "execution_count": 24,
     "metadata": {},
     "output_type": "execute_result"
    }
   ],
   "source": [
    "torch.cuda.get_device_name(0)"
   ]
  },
  {
   "cell_type": "code",
   "execution_count": null,
   "metadata": {},
   "outputs": [],
   "source": []
  },
  {
   "cell_type": "code",
   "execution_count": null,
   "metadata": {},
   "outputs": [],
   "source": []
  },
  {
   "cell_type": "code",
   "execution_count": null,
   "metadata": {},
   "outputs": [],
   "source": []
  },
  {
   "cell_type": "code",
   "execution_count": 7,
   "metadata": {},
   "outputs": [
    {
     "data": {
      "text/plain": [
       "Sequential(\n",
       "  (0): Linear(in_features=784, out_features=128, bias=True)\n",
       "  (1): ReLU()\n",
       "  (2): Linear(in_features=128, out_features=64, bias=True)\n",
       "  (3): ReLU()\n",
       "  (4): Linear(in_features=64, out_features=10, bias=True)\n",
       ")"
      ]
     },
     "execution_count": 7,
     "metadata": {},
     "output_type": "execute_result"
    }
   ],
   "source": [
    "input_size = 784\n",
    "hidden_sizes = [128, 64]\n",
    "output_size = 10\n",
    "\n",
    "model = nn.Sequential(nn.Linear(input_size, hidden_sizes[0]),\n",
    "                      nn.ReLU(),\n",
    "                      nn.Linear(hidden_sizes[0], hidden_sizes[1]),\n",
    "                      nn.ReLU(),\n",
    "                      nn.Linear(hidden_sizes[1], output_size))\n",
    "\n",
    "model"
   ]
  },
  {
   "cell_type": "code",
   "execution_count": 25,
   "metadata": {},
   "outputs": [],
   "source": [
    "criterion = nn.CrossEntropyLoss()\n",
    "optimizer = optim.SGD(model.parameters(), lr=0.01)"
   ]
  },
  {
   "cell_type": "code",
   "execution_count": 27,
   "metadata": {},
   "outputs": [],
   "source": [
    "# Implement a function for the validation pass\n",
    "def validation(model, testloader, criterion):\n",
    "    test_loss = 0\n",
    "    accuracy = 0\n",
    "    for images, labels in testloader:\n",
    "\n",
    "        images.resize_(images.shape[0], 784)\n",
    "\n",
    "        output = model.forward(images)\n",
    "        test_loss += criterion(output, labels).item()\n",
    "        \n",
    "        # because output is log(softmax), so taking exp returns softmax\n",
    "        ps = torch.exp(output)\n",
    "        equality = (labels.data == ps.max(dim=1)[1])\n",
    "        accuracy += equality.type(torch.FloatTensor).mean()\n",
    "    \n",
    "    return test_loss, accuracy"
   ]
  },
  {
   "cell_type": "code",
   "execution_count": 29,
   "metadata": {},
   "outputs": [
    {
     "name": "stdout",
     "output_type": "stream",
     "text": [
      "Epoch: 1/3..  Training Loss: 0.557..  Test Loss: 0.585..  Test Accuracy: 0.797\n",
      "Epoch: 1/3..  Training Loss: 0.578..  Test Loss: 0.598..  Test Accuracy: 0.791\n",
      "Epoch: 1/3..  Training Loss: 0.591..  Test Loss: 0.578..  Test Accuracy: 0.796\n",
      "Epoch: 1/3..  Training Loss: 0.552..  Test Loss: 0.598..  Test Accuracy: 0.790\n",
      "Epoch: 1/3..  Training Loss: 0.548..  Test Loss: 0.605..  Test Accuracy: 0.787\n",
      "Epoch: 1/3..  Training Loss: 0.544..  Test Loss: 0.571..  Test Accuracy: 0.802\n",
      "Epoch: 1/3..  Training Loss: 0.541..  Test Loss: 0.573..  Test Accuracy: 0.800\n",
      "Epoch: 1/3..  Training Loss: 0.549..  Test Loss: 0.566..  Test Accuracy: 0.804\n",
      "Epoch: 1/3..  Training Loss: 0.554..  Test Loss: 0.569..  Test Accuracy: 0.805\n",
      "Epoch: 1/3..  Training Loss: 0.544..  Test Loss: 0.578..  Test Accuracy: 0.796\n",
      "Epoch: 1/3..  Training Loss: 0.558..  Test Loss: 0.565..  Test Accuracy: 0.803\n",
      "Epoch: 1/3..  Training Loss: 0.539..  Test Loss: 0.560..  Test Accuracy: 0.807\n",
      "Epoch: 1/3..  Training Loss: 0.531..  Test Loss: 0.560..  Test Accuracy: 0.805\n",
      "Epoch: 1/3..  Training Loss: 0.524..  Test Loss: 0.568..  Test Accuracy: 0.803\n",
      "Epoch: 1/3..  Training Loss: 0.538..  Test Loss: 0.569..  Test Accuracy: 0.798\n",
      "Epoch: 1/3..  Training Loss: 0.536..  Test Loss: 0.552..  Test Accuracy: 0.808\n",
      "Epoch: 1/3..  Training Loss: 0.533..  Test Loss: 0.561..  Test Accuracy: 0.802\n",
      "Epoch: 1/3..  Training Loss: 0.529..  Test Loss: 0.557..  Test Accuracy: 0.805\n",
      "Epoch: 1/3..  Training Loss: 0.533..  Test Loss: 0.555..  Test Accuracy: 0.807\n",
      "Epoch: 1/3..  Training Loss: 0.527..  Test Loss: 0.549..  Test Accuracy: 0.812\n",
      "Epoch: 1/3..  Training Loss: 0.546..  Test Loss: 0.558..  Test Accuracy: 0.803\n",
      "Epoch: 1/3..  Training Loss: 0.499..  Test Loss: 0.547..  Test Accuracy: 0.808\n",
      "Epoch: 1/3..  Training Loss: 0.517..  Test Loss: 0.540..  Test Accuracy: 0.814\n",
      "Epoch: 2/3..  Training Loss: 0.524..  Test Loss: 0.541..  Test Accuracy: 0.809\n",
      "Epoch: 2/3..  Training Loss: 0.512..  Test Loss: 0.555..  Test Accuracy: 0.802\n",
      "Epoch: 2/3..  Training Loss: 0.518..  Test Loss: 0.544..  Test Accuracy: 0.810\n",
      "Epoch: 2/3..  Training Loss: 0.515..  Test Loss: 0.540..  Test Accuracy: 0.813\n",
      "Epoch: 2/3..  Training Loss: 0.529..  Test Loss: 0.552..  Test Accuracy: 0.804\n",
      "Epoch: 2/3..  Training Loss: 0.495..  Test Loss: 0.561..  Test Accuracy: 0.802\n",
      "Epoch: 2/3..  Training Loss: 0.532..  Test Loss: 0.539..  Test Accuracy: 0.813\n",
      "Epoch: 2/3..  Training Loss: 0.492..  Test Loss: 0.555..  Test Accuracy: 0.800\n",
      "Epoch: 2/3..  Training Loss: 0.529..  Test Loss: 0.531..  Test Accuracy: 0.813\n",
      "Epoch: 2/3..  Training Loss: 0.528..  Test Loss: 0.532..  Test Accuracy: 0.815\n",
      "Epoch: 2/3..  Training Loss: 0.510..  Test Loss: 0.524..  Test Accuracy: 0.817\n",
      "Epoch: 2/3..  Training Loss: 0.500..  Test Loss: 0.544..  Test Accuracy: 0.808\n",
      "Epoch: 2/3..  Training Loss: 0.472..  Test Loss: 0.529..  Test Accuracy: 0.816\n",
      "Epoch: 2/3..  Training Loss: 0.489..  Test Loss: 0.527..  Test Accuracy: 0.815\n",
      "Epoch: 2/3..  Training Loss: 0.517..  Test Loss: 0.526..  Test Accuracy: 0.816\n",
      "Epoch: 2/3..  Training Loss: 0.547..  Test Loss: 0.523..  Test Accuracy: 0.819\n",
      "Epoch: 2/3..  Training Loss: 0.501..  Test Loss: 0.518..  Test Accuracy: 0.819\n",
      "Epoch: 2/3..  Training Loss: 0.468..  Test Loss: 0.530..  Test Accuracy: 0.817\n",
      "Epoch: 2/3..  Training Loss: 0.488..  Test Loss: 0.533..  Test Accuracy: 0.814\n",
      "Epoch: 2/3..  Training Loss: 0.514..  Test Loss: 0.531..  Test Accuracy: 0.811\n",
      "Epoch: 2/3..  Training Loss: 0.517..  Test Loss: 0.524..  Test Accuracy: 0.815\n",
      "Epoch: 2/3..  Training Loss: 0.509..  Test Loss: 0.522..  Test Accuracy: 0.813\n",
      "Epoch: 2/3..  Training Loss: 0.508..  Test Loss: 0.537..  Test Accuracy: 0.813\n",
      "Epoch: 3/3..  Training Loss: 0.467..  Test Loss: 0.514..  Test Accuracy: 0.821\n",
      "Epoch: 3/3..  Training Loss: 0.463..  Test Loss: 0.536..  Test Accuracy: 0.810\n",
      "Epoch: 3/3..  Training Loss: 0.515..  Test Loss: 0.518..  Test Accuracy: 0.816\n",
      "Epoch: 3/3..  Training Loss: 0.515..  Test Loss: 0.528..  Test Accuracy: 0.813\n",
      "Epoch: 3/3..  Training Loss: 0.485..  Test Loss: 0.513..  Test Accuracy: 0.823\n",
      "Epoch: 3/3..  Training Loss: 0.465..  Test Loss: 0.519..  Test Accuracy: 0.819\n",
      "Epoch: 3/3..  Training Loss: 0.524..  Test Loss: 0.520..  Test Accuracy: 0.816\n",
      "Epoch: 3/3..  Training Loss: 0.513..  Test Loss: 0.520..  Test Accuracy: 0.815\n",
      "Epoch: 3/3..  Training Loss: 0.466..  Test Loss: 0.523..  Test Accuracy: 0.814\n",
      "Epoch: 3/3..  Training Loss: 0.482..  Test Loss: 0.504..  Test Accuracy: 0.825\n",
      "Epoch: 3/3..  Training Loss: 0.486..  Test Loss: 0.507..  Test Accuracy: 0.823\n",
      "Epoch: 3/3..  Training Loss: 0.470..  Test Loss: 0.519..  Test Accuracy: 0.818\n",
      "Epoch: 3/3..  Training Loss: 0.477..  Test Loss: 0.507..  Test Accuracy: 0.825\n",
      "Epoch: 3/3..  Training Loss: 0.499..  Test Loss: 0.515..  Test Accuracy: 0.818\n",
      "Epoch: 3/3..  Training Loss: 0.488..  Test Loss: 0.510..  Test Accuracy: 0.820\n",
      "Epoch: 3/3..  Training Loss: 0.451..  Test Loss: 0.506..  Test Accuracy: 0.824\n",
      "Epoch: 3/3..  Training Loss: 0.480..  Test Loss: 0.528..  Test Accuracy: 0.811\n",
      "Epoch: 3/3..  Training Loss: 0.469..  Test Loss: 0.507..  Test Accuracy: 0.821\n",
      "Epoch: 3/3..  Training Loss: 0.468..  Test Loss: 0.507..  Test Accuracy: 0.819\n",
      "Epoch: 3/3..  Training Loss: 0.462..  Test Loss: 0.505..  Test Accuracy: 0.821\n",
      "Epoch: 3/3..  Training Loss: 0.463..  Test Loss: 0.507..  Test Accuracy: 0.824\n",
      "Epoch: 3/3..  Training Loss: 0.478..  Test Loss: 0.496..  Test Accuracy: 0.826\n",
      "Epoch: 3/3..  Training Loss: 0.485..  Test Loss: 0.505..  Test Accuracy: 0.822\n",
      "Epoch: 3/3..  Training Loss: 0.495..  Test Loss: 0.508..  Test Accuracy: 0.818\n"
     ]
    }
   ],
   "source": [
    "epochs = 3\n",
    "steps = 0\n",
    "running_loss = 0\n",
    "print_every = 40\n",
    "\n",
    "for e in range(epochs):\n",
    "    model.train()\n",
    "    for images, labels in iter(trainloader):\n",
    "        \n",
    "        steps += 1\n",
    "        images.resize_(images.size()[0], 784)\n",
    "        optimizer.zero_grad()\n",
    "        \n",
    "        output = model.forward(images)\n",
    "        loss = criterion(output, labels)\n",
    "        loss.backward()\n",
    "        optimizer.step()\n",
    "        \n",
    "        running_loss += loss.item()\n",
    "        \n",
    "        if steps % print_every == 0:\n",
    "            # Make sure network is in eval mode for inference\n",
    "            # no dropouts\n",
    "            model.eval()\n",
    "            \n",
    "            # Turn off gradients for validation, saves memory and computations\n",
    "            with torch.no_grad():\n",
    "                test_loss, accuracy = validation(model, testloader, criterion)\n",
    "                \n",
    "            print(\"Epoch: {}/{}.. \".format(e+1, epochs),\n",
    "                  \"Training Loss: {:.3f}.. \".format(running_loss/print_every),\n",
    "                  \"Test Loss: {:.3f}.. \".format(test_loss/len(testloader)),\n",
    "                  \"Test Accuracy: {:.3f}\".format(accuracy/len(testloader)))\n",
    "            \n",
    "            running_loss = 0\n",
    "            \n",
    "            # Make sure training is back on\n",
    "            model.train()"
   ]
  },
  {
   "cell_type": "code",
   "execution_count": 33,
   "metadata": {},
   "outputs": [
    {
     "data": {
      "text/plain": [
       "tensor([[7.4575e+00, 1.3439e+01, 2.0471e+00, 4.4669e+02, 1.5529e+00, 1.5067e-02,\n",
       "         8.1384e-01, 4.0921e-02, 2.4455e-01, 9.1974e-02]])"
      ]
     },
     "execution_count": 33,
     "metadata": {},
     "output_type": "execute_result"
    }
   ],
   "source": [
    "# to avoid having dropout when doing validation\n",
    "model.eval()\n",
    "\n",
    "dataiter = iter(testloader)\n",
    "images, labels = dataiter.next()\n",
    "img = images[0]\n",
    "# Convert 2D image to 1D vector\n",
    "img = img.view(1, 784)\n",
    "\n",
    "# Calculate the class probabilities (softmax) for img\n",
    "with torch.no_grad():\n",
    "    output = model.forward(img)\n",
    "\n",
    "ps = torch.exp(output)\n",
    "\n",
    "# Plot the image and probabilities\n"
   ]
  },
  {
   "cell_type": "code",
   "execution_count": 36,
   "metadata": {},
   "outputs": [
    {
     "data": {
      "text/plain": [
       "tensor(3)"
      ]
     },
     "execution_count": 36,
     "metadata": {},
     "output_type": "execute_result"
    }
   ],
   "source": [
    "labels[0]"
   ]
  },
  {
   "cell_type": "code",
   "execution_count": null,
   "metadata": {},
   "outputs": [],
   "source": []
  }
 ],
 "metadata": {
  "kernelspec": {
   "display_name": "Python 3",
   "language": "python",
   "name": "python3"
  },
  "language_info": {
   "codemirror_mode": {
    "name": "ipython",
    "version": 3
   },
   "file_extension": ".py",
   "mimetype": "text/x-python",
   "name": "python",
   "nbconvert_exporter": "python",
   "pygments_lexer": "ipython3",
   "version": "3.6.5"
  }
 },
 "nbformat": 4,
 "nbformat_minor": 2
}
